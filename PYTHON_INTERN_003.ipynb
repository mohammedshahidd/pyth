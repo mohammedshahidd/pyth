{
 "cells": [
  {
   "cell_type": "markdown",
   "metadata": {},
   "source": [
    "# <center>Python Basics<center/> \n",
    "<img height=\"60\" width=\"120\" src=\"https://www.python.org/static/img/python-logo-large.png?1414305901\"></img>"
   ]
  },
  {
   "cell_type": "markdown",
   "metadata": {},
   "source": [
    "# Table of contents\n",
    "<br/>\n",
    "<a href = \"#9.-Python-Output\">09. Python Output</a><br/>\n",
    "<a href = \"#10.-Output-Formatting\">10. Output Formatting</a><br/>\n",
    "<a href = \"#11.-Python-Input\">11. Python Input</a>"
   ]
  },
  {
   "cell_type": "markdown",
   "metadata": {},
   "source": [
    "# Python I/O functions"
   ]
  },
  {
   "cell_type": "markdown",
   "metadata": {},
   "source": [
    "# 9. Python Output"
   ]
  },
  {
   "cell_type": "markdown",
   "metadata": {},
   "source": [
    "To see the output on the screen(standard output device), use the <b>print()</b> function "
   ]
  },
  {
   "cell_type": "code",
   "execution_count": 1,
   "metadata": {},
   "outputs": [
    {
     "name": "stdout",
     "output_type": "stream",
     "text": [
      "The output will be displayed on the screen\n"
     ]
    }
   ],
   "source": [
    "print(\"The output will be displayed on the screen\")"
   ]
  },
  {
   "cell_type": "code",
   "execution_count": 2,
   "metadata": {},
   "outputs": [
    {
     "name": "stdout",
     "output_type": "stream",
     "text": [
      "welcome to python programming!!!!!!!\n",
      " hi how r u\n"
     ]
    }
   ],
   "source": [
    "print(\"welcome to python programming!!!!!!!\\n hi how r u\")"
   ]
  },
  {
   "cell_type": "code",
   "execution_count": 8,
   "metadata": {},
   "outputs": [
    {
     "name": "stdout",
     "output_type": "stream",
     "text": [
      "The value of myInt is 400\n",
      "The value of myInt is 400\n"
     ]
    }
   ],
   "source": [
    "myInt = 400\n",
    "print(\"The value of myInt is\", myInt)\n",
    "\n",
    "print(\"The value of myInt is \" + str(myInt))    # If you wish to print the number in the string form"
   ]
  },
  {
   "cell_type": "markdown",
   "metadata": {},
   "source": [
    "# 10. Output Formatting"
   ]
  },
  {
   "cell_type": "markdown",
   "metadata": {},
   "source": [
    "To make the output look attractive<br/> \n",
    "we use the <b> str.format() </b> method.<br/> \n",
    "This method is visible to any string object."
   ]
  },
  {
   "cell_type": "code",
   "execution_count": 11,
   "metadata": {},
   "outputs": [
    {
     "name": "stdout",
     "output_type": "stream",
     "text": [
      "myInt1: 20 is the half of myInt2: 40\n"
     ]
    }
   ],
   "source": [
    "myInt1 = 20\n",
    "myInt2 = 40                                                \n",
    "\n",
    "print(\"myInt1: {} is the half of myInt2: {}\".format(myInt1, myInt2))    # Considers the Python provided default Type"
   ]
  },
  {
   "cell_type": "code",
   "execution_count": 14,
   "metadata": {},
   "outputs": [
    {
     "name": "stdout",
     "output_type": "stream",
     "text": [
      "myInt2: 40 is double of myInt1: 20\n"
     ]
    }
   ],
   "source": [
    "myInt1 = 20\n",
    "myInt2 = 40 \n",
    "\n",
    "print(\"myInt2: {1} is double of myInt1: {0}\".format(myInt1, myInt2))    # Considers position of arguments"
   ]
  },
  {
   "cell_type": "code",
   "execution_count": 3,
   "metadata": {},
   "outputs": [
    {
     "name": "stdout",
     "output_type": "stream",
     "text": [
      "Welcome zetacoding to the world of Data Science\n"
     ]
    }
   ],
   "source": [
    "# Use of keyword arguments to format the string\n",
    "print(\"Welcome {name} to the world of {ds}\".format(name=\"zetacoding\", ds=\"Data Science\"))"
   ]
  },
  {
   "cell_type": "code",
   "execution_count": 4,
   "metadata": {},
   "outputs": [
    {
     "name": "stdout",
     "output_type": "stream",
     "text": [
      "Welcome zetacoding, to the world of Data Science. We are learning Python.\n"
     ]
    }
   ],
   "source": [
    "# Also a combination of positional arguments with keyword arguments is applicable\n",
    "print('Welcome {0}, to the world of {1}. We are learning {Subject}.'.format('zetacoding', 'Data Science', Subject='Python'))"
   ]
  },
  {
   "cell_type": "markdown",
   "metadata": {},
   "source": [
    "Refer documentation for more examples: https://docs.python.org/3.4/library/string.html#format-examples"
   ]
  },
  {
   "cell_type": "code",
   "execution_count": 23,
   "metadata": {},
   "outputs": [
    {
     "name": "stdout",
     "output_type": "stream",
     "text": [
      "+3.140000; -3.140000\n"
     ]
    }
   ],
   "source": [
    "print('{:+f}; {:+f}'.format(3.14, -3.14))  # show the signs "
   ]
  },
  {
   "cell_type": "markdown",
   "metadata": {},
   "source": [
    "# 11. Python Input"
   ]
  },
  {
   "cell_type": "markdown",
   "metadata": {},
   "source": [
    "User inputs can be taken in Python by using the input() function. "
   ]
  },
  {
   "cell_type": "code",
   "execution_count": 1,
   "metadata": {},
   "outputs": [
    {
     "name": "stdout",
     "output_type": "stream",
     "text": [
      "Please enter some data: hello how are u\n",
      "You typed in:  hello how are u\n",
      "<class 'str'>\n"
     ]
    }
   ],
   "source": [
    "inputdata = input(\"Please enter some data: \")\n",
    "print(\"You typed in: \",inputdata)\n",
    "\n",
    "print (type(inputdata))"
   ]
  },
  {
   "cell_type": "code",
   "execution_count": 6,
   "metadata": {},
   "outputs": [
    {
     "name": "stdout",
     "output_type": "stream",
     "text": [
      "Enter class strength: 25\n",
      "You typed in:  25\n",
      "userInput type is :  <class 'str'>\n",
      "data after conversion <class 'int'>\n"
     ]
    }
   ],
   "source": [
    "inputdata = input(\"Enter class strength: \")\n",
    "print(\"You typed in: \",inputdata)\n",
    "print(\"userInput type is : \",type(inputdata))\n",
    "data=int(inputdata)\n",
    "print(\"data after conversion\",type(data))\n"
   ]
  },
  {
   "cell_type": "code",
   "execution_count": 6,
   "metadata": {},
   "outputs": [
    {
     "name": "stdout",
     "output_type": "stream",
     "text": [
      "classStrength value is:  25\n",
      "classStrength type is :  <class 'int'>\n"
     ]
    }
   ],
   "source": [
    "classStrength = int(inputdata)\n",
    "print(\"classStrength value is: \",classStrength)\n",
    "print(\"classStrength type is : \",type(classStrength))"
   ]
  },
  {
   "cell_type": "code",
   "execution_count": null,
   "metadata": {},
   "outputs": [],
   "source": []
  }
 ],
 "metadata": {
  "kernelspec": {
   "display_name": "Python 3",
   "language": "python",
   "name": "python3"
  },
  "language_info": {
   "codemirror_mode": {
    "name": "ipython",
    "version": 3
   },
   "file_extension": ".py",
   "mimetype": "text/x-python",
   "name": "python",
   "nbconvert_exporter": "python",
   "pygments_lexer": "ipython3",
   "version": "3.7.3"
  }
 },
 "nbformat": 4,
 "nbformat_minor": 2
}
