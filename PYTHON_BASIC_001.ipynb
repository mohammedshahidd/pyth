{
 "cells": [
  {
   "cell_type": "markdown",
   "metadata": {
    "id": "aLDo3yRV3iLa"
   },
   "source": [
    "# <center>Python Basics<center/> \n",
    "<img height=\"60\" width=\"120\" src=\"https://www.python.org/static/img/python-logo-large.png?1414305901\"></img>"
   ]
  },
  {
   "cell_type": "markdown",
   "metadata": {
    "id": "67oIZ6fV3iLe"
   },
   "source": [
    "<b>Welcome</b> to Python tutorial. For your benefit we have broken down the entire tutorial into multiple parts so that you can take it step by step. Please learn Python in the sequence of the notebooks and topic wise as per the Table Of Contents.\n",
    "\n",
    "Wish you a Happy Learning!\n",
    "<br/>\n",
    "<br/>\n",
    "<br/>\n",
    "<br/>"
   ]
  },
  {
   "cell_type": "markdown",
   "metadata": {
    "id": "Wn8kQTe23iLf"
   },
   "source": [
    "# Table of contents\n",
    "<br/>\n",
    "<a href = \"#1.-Python-Keywords\">1. Python Keywords</a>\n",
    "\n",
    "<a href = \"#2.-Identifiers\">2. Identifiers</a>\n",
    "\n",
    "<a href = \"#3.-Comments-in-Python\">3. Comments in Python</a>\n",
    "\n",
    "<a href = \"#4.-Python-Indentation\">4. Python Indentation</a>\n",
    "\n",
    "<a href = \"#5.-Python-Statement\">5. Python Statement</a>"
   ]
  },
  {
   "cell_type": "markdown",
   "metadata": {
    "id": "s23SV0ji3iLg"
   },
   "source": [
    "# 1. Python Keywords"
   ]
  },
  {
   "cell_type": "markdown",
   "metadata": {
    "id": "WZcFzGJ_3iLh"
   },
   "source": [
    "Keywords in Python are reservered words that cannot be used as ordinary\n",
    "identifiers.<p/>\n",
    "They must be spelled exacty as they are written. <p/>\n",
    "The 33 keywords in Python 3.6 are:<p/>"
   ]
  },
  {
   "cell_type": "markdown",
   "metadata": {
    "id": "YL-jxf4n3iLh"
   },
   "source": [
    "<table width='100%'>\n",
    "<tr><th>and</tc><th>del</tc><th>from</tc><th>not</tc><th>while</tc></tr>\n",
    "<tr><th>as</tc><th> elif</tc><th>global</tc><th>or</tc><th> with</tc></tr>\n",
    "<tr><th>assert</tc><th>else</tc><th>if</tc><th> pass</tc><th>yield</tc></tr>\n",
    "<tr><th>break</tc><th> except</tc><th>import</tc><th>print</tc></tr>\n",
    "<tr><th>class</tc><th> exec</tc><th>in</tc><th> raise</tc></tr>\n",
    "<tr><th>continue</tc><th>finally</tc><th> is</tc><th> return </tc></tr>\n",
    "<tr><th>def</tc><th>for</tc><th>lambda</tc><th>try</tc></tr>\n",
    "</table>"
   ]
  },
  {
   "cell_type": "markdown",
   "metadata": {
    "id": "xJvT1L8QBh5t"
   },
   "source": [
    "# **The import Keyword**"
   ]
  },
  {
   "cell_type": "code",
   "execution_count": 1,
   "metadata": {
    "colab": {
     "base_uri": "https://localhost:8080/"
    },
    "id": "E5ZDI2MF3iLi",
    "outputId": "114bd74b-e139-410d-8930-91aeca9f3c98",
    "scrolled": false
   },
   "outputs": [
    {
     "name": "stdout",
     "output_type": "stream",
     "text": [
      "['False', 'None', 'True', 'and', 'as', 'assert', 'async', 'await', 'break', 'class', 'continue', 'def', 'del', 'elif', 'else', 'except', 'finally', 'for', 'from', 'global', 'if', 'import', 'in', 'is', 'lambda', 'nonlocal', 'not', 'or', 'pass', 'raise', 'return', 'try', 'while', 'with', 'yield']\n"
     ]
    }
   ],
   "source": [
    "#To extract all keywords in python 3.6 use the below code\n",
    "\n",
    "import keyword\n",
    "\n",
    "print(keyword.kwlist)\n",
    "\n"
   ]
  },
  {
   "cell_type": "code",
   "execution_count": 30,
   "metadata": {
    "colab": {
     "base_uri": "https://localhost:8080/"
    },
    "id": "xCxrtsLRBu1t",
    "outputId": "454f0a26-83e9-4cd9-ec39-f92a8f8cbced"
   },
   "outputs": [
    {
     "name": "stdout",
     "output_type": "stream",
     "text": [
      "The value of pi is :  3.141592653589793\n"
     ]
    }
   ],
   "source": [
    "import math\n",
    "pie = math.pi\n",
    "print(\"The value of pi is : \",pie)"
   ]
  },
  {
   "cell_type": "code",
   "execution_count": 31,
   "metadata": {
    "colab": {
     "base_uri": "https://localhost:8080/"
    },
    "id": "12bX6M5XBxBc",
    "outputId": "eb2d347c-d974-4c4b-fc1e-67ba504f4637"
   },
   "outputs": [
    {
     "name": "stdout",
     "output_type": "stream",
     "text": [
      "The value of pi is :  3.141592653589793\n"
     ]
    }
   ],
   "source": [
    "from math import pi\n",
    " \n",
    "print(\"The value of pi is : \",pie)"
   ]
  },
  {
   "cell_type": "code",
   "execution_count": 32,
   "metadata": {
    "colab": {
     "base_uri": "https://localhost:8080/"
    },
    "id": "E9b6M9tbBy81",
    "outputId": "3bc37dac-7be3-4c98-ebd5-689ef18323c1"
   },
   "outputs": [
    {
     "name": "stdout",
     "output_type": "stream",
     "text": [
      "3.141592653589793\n",
      "120\n",
      "4.0\n",
      "27.0\n"
     ]
    }
   ],
   "source": [
    "\n",
    "from math import *\n",
    "print(pi)\n",
    "print(factorial(5))\n",
    "print(sqrt(16))\n",
    "print(pow(3,3))"
   ]
  },
  {
   "cell_type": "code",
   "execution_count": 2,
   "metadata": {
    "colab": {
     "base_uri": "https://localhost:8080/"
    },
    "id": "y1qFpFnI3iLl",
    "outputId": "4efb502d-badb-4783-cbfc-6115d4843639"
   },
   "outputs": [
    {
     "name": "stdout",
     "output_type": "stream",
     "text": [
      "3.7.15\n"
     ]
    }
   ],
   "source": [
    "from platform import python_version\n",
    "\n",
    "print(python_version())"
   ]
  },
  {
   "cell_type": "code",
   "execution_count": 3,
   "metadata": {
    "colab": {
     "base_uri": "https://localhost:8080/"
    },
    "id": "l82hgROO3iLm",
    "outputId": "2c49bcf9-c955-4486-a6c8-85639f6cbcab"
   },
   "outputs": [
    {
     "name": "stdout",
     "output_type": "stream",
     "text": [
      "keywords in python 3.7 are: 35\n"
     ]
    }
   ],
   "source": [
    "# Number of keywords are \n",
    "print(\"keywords in python 3.7 are:\", len(keyword.kwlist))"
   ]
  },
  {
   "cell_type": "markdown",
   "metadata": {
    "id": "apzFXBENCKER"
   },
   "source": [
    "# **assert keyword**"
   ]
  },
  {
   "cell_type": "code",
   "execution_count": 33,
   "metadata": {
    "id": "EjUXxgboBZ8Q"
   },
   "outputs": [],
   "source": [
    "x = \"PYTHON\"\n",
    "\n",
    "#if condition returns True, then nothing happens:\n",
    "assert x == \"PYTHON\""
   ]
  },
  {
   "cell_type": "code",
   "execution_count": 34,
   "metadata": {
    "colab": {
     "base_uri": "https://localhost:8080/",
     "height": 190
    },
    "id": "t5BbH15YCP4e",
    "outputId": "29202640-8955-41d3-c8f2-7599a1850cd1"
   },
   "outputs": [
    {
     "ename": "AssertionError",
     "evalue": "ignored",
     "output_type": "error",
     "traceback": [
      "\u001b[0;31m---------------------------------------------------------------------------\u001b[0m",
      "\u001b[0;31mAssertionError\u001b[0m                            Traceback (most recent call last)",
      "\u001b[0;32m<ipython-input-34-2aa6d503c32a>\u001b[0m in \u001b[0;36m<module>\u001b[0;34m\u001b[0m\n\u001b[1;32m      1\u001b[0m \u001b[0;31m#if condition returns False, AssertionError is raised:\u001b[0m\u001b[0;34m\u001b[0m\u001b[0;34m\u001b[0m\u001b[0;34m\u001b[0m\u001b[0m\n\u001b[0;32m----> 2\u001b[0;31m \u001b[0;32massert\u001b[0m \u001b[0mx\u001b[0m \u001b[0;34m==\u001b[0m \u001b[0;34m\"PROGRAMMING\"\u001b[0m\u001b[0;34m\u001b[0m\u001b[0;34m\u001b[0m\u001b[0m\n\u001b[0m",
      "\u001b[0;31mAssertionError\u001b[0m: "
     ]
    }
   ],
   "source": [
    "#if condition returns False, AssertionError is raised:\n",
    "assert x == \"PROGRAMMING\""
   ]
  },
  {
   "cell_type": "markdown",
   "metadata": {
    "id": "lfxWfMoZCTlc"
   },
   "source": [
    "# **except keyword**"
   ]
  },
  {
   "cell_type": "code",
   "execution_count": 35,
   "metadata": {
    "colab": {
     "base_uri": "https://localhost:8080/"
    },
    "id": "hEGrNI5dCVKF",
    "outputId": "f6714aff-cd92-4014-e2bb-0b2d837e18b4"
   },
   "outputs": [
    {
     "name": "stdout",
     "output_type": "stream",
     "text": [
      "You are trying to compare values of different type where x is a string and 3 is a number\n"
     ]
    }
   ],
   "source": [
    "x = \"PYTHON\"\n",
    "\n",
    "try:\n",
    "  x > 3\n",
    "except NameError:\n",
    "  print(\"You have a variable that is not defined.\")\n",
    "except TypeError:\n",
    "  print(\"You are trying to compare values of different type where x is a string and 3 is a number\")\n"
   ]
  },
  {
   "cell_type": "code",
   "execution_count": 36,
   "metadata": {
    "colab": {
     "base_uri": "https://localhost:8080/"
    },
    "id": "4oJsc1MoJROc",
    "outputId": "5c483173-2ddc-48d2-e368-dd3dfb85583e"
   },
   "outputs": [
    {
     "name": "stdout",
     "output_type": "stream",
     "text": [
      "Second element = 2\n",
      "An error occurred\n"
     ]
    }
   ],
   "source": [
    "a = [1, 2, 3]\n",
    "try: \n",
    "    print (\"Second element = %d\" %(a[1]))\n",
    "  \n",
    "    # Throws error since there are only 3 elements in array\n",
    "    print (\"Fourth element = %d\" %(a[3]))\n",
    "  \n",
    "except:\n",
    "    print (\"An error occurred\")"
   ]
  },
  {
   "cell_type": "markdown",
   "metadata": {
    "id": "lVqMFB8UBaMe"
   },
   "source": [
    "# Python Built-in Exceptions\n",
    "\n",
    "<p><b>ArithmeticError</b>\tRaised when an error occurs in numeric calculations</p>\n",
    "<p><b>AssertionError</b>\tRaised when an assert statement fails</p>\n",
    "<p><b>AttributeError</b>\tRaised when attribute reference or assignment fails</p>\n",
    "<p><b>Exception\t</b>Base class for all exceptions</p>\n",
    "<p><b>EOFError\t</b>Raised when the input() method hits an \"end of file\" condition (EOF)</p>\n",
    "<p><b>FloatingPointError\t</b>Raised when a floating point calculation fails</p>\n",
    "<p><b>GeneratorExit\t</b>Raised when a generator is closed (with the close() method)</p>\n",
    "<p><b>ImportError\t</b>Raised when an imported module does not exist\n",
    "<p><b>IndentationError\t</b>Raised when indendation is not correct\n",
    "<p><b>IndexError\t</b>Raised when an index of a sequence does not exist\n",
    "<p><b>KeyError\t</b>Raised when a key does not exist in a dictionary\n",
    "<p><b>KeyboardInterrupt\t</b>Raised when the user presses Ctrl+c, Ctrl+z or Delete\n",
    "<p><b>LookupError\t</b>Raised when errors raised cant be found\n",
    "<p><b>MemoryError\t</b>Raised when a program runs out of memory\n",
    "<p><b>NameError\t</b>Raised when a variable does not exist\n",
    "<p><b>NotImplementedError\t</b>Raised when an abstract method requires an inherited class to override the method\n",
    "<p><b>OSError\t</b>Raised when a system related operation causes an error\n",
    "<p><b>OverflowError</b>\tRaised when the result of a numeric calculation is too large\n",
    "<p><b>ReferenceError\t</b>Raised when a weak reference object does not exist\n",
    "<p><b>RuntimeError\t</b>Raised when an error occurs that do not belong to any specific expections\n",
    "<p><b>StopIteration\t</b>Raised when the next() method of an iterator has no further values\n",
    "<p><b>SyntaxError\t</b>Raised when a syntax error occurs\n",
    "<p><b>TabError\t</b>Raised when indentation consists of tabs or spaces\n",
    "<p><b>SystemError\t</b>Raised when a system error occurs\n",
    "<p><b>SystemExit\t</b>Raised when the sys.exit() function is called\n",
    "<p><b>TypeError</b>\tRaised when two different types are combined\n",
    "<p><b>UnboundLocalError</b>\tRaised when a local variable is referenced before assignment\n",
    "<p><b>UnicodeError\t</b>Raised when a unicode problem occurs\n",
    "<p><b>UnicodeEncodeError</b>\tRaised when a unicode encoding problem occurs\n",
    "<p><b>UnicodeDecodeError</b>\tRaised when a unicode decoding problem occurs\n",
    "<p><b>UnicodeTranslateError</b>\tRaised when a unicode translation problem occurs\n",
    "<p><b>ValueError</b>\tRaised when there is a wrong value in a specified data type\n",
    "<p><b>ZeroDivisionError</b>\tRaised when the second operator in a division is zero"
   ]
  },
  {
   "cell_type": "code",
   "execution_count": null,
   "metadata": {
    "id": "ndAXvW64BlV0"
   },
   "outputs": [],
   "source": []
  },
  {
   "cell_type": "markdown",
   "metadata": {
    "id": "-S2224mgJkC3"
   },
   "source": [
    "# **The pass Keyword**\n",
    "\n",
    "Since Python doesn’t have block indicators to specify the end of a block, the pass keyword is used to specify that the block is intentionally left blank. It’s the equivalent of a no-op, or no operation."
   ]
  },
  {
   "cell_type": "code",
   "execution_count": 37,
   "metadata": {
    "id": "bduFXN31Jrna"
   },
   "outputs": [],
   "source": [
    "def my_function():\n",
    "    pass\n",
    "\n",
    "class MyClass:\n",
    "    pass\n",
    "\n",
    "if True:\n",
    "    pass"
   ]
  },
  {
   "cell_type": "markdown",
   "metadata": {
    "id": "avrt-OFlJu4Q"
   },
   "source": [
    "# **The lambda Keyword**\n",
    "The lambda keyword is used to define a function that doesn’t have a name and has only one statement, the results of which are returned."
   ]
  },
  {
   "cell_type": "code",
   "execution_count": 50,
   "metadata": {
    "colab": {
     "base_uri": "https://localhost:8080/"
    },
    "id": "Qx29hgH3JwlH",
    "outputId": "2950fedf-cf3d-4d0a-de70-8949492f28dc"
   },
   "outputs": [
    {
     "name": "stdout",
     "output_type": "stream",
     "text": [
      "125\n",
      "125\n"
     ]
    }
   ],
   "source": [
    "fun = lambda x: x**3\n",
    "\n",
    "print(fun(5))\n",
    "        \n",
    "\n",
    "\n",
    "def fun(x):\n",
    "    return x**3\n",
    "print(fun(5))"
   ]
  },
  {
   "cell_type": "markdown",
   "metadata": {
    "collapsed": true,
    "id": "rsF2dB833iLn"
   },
   "source": [
    "# 2. Identifiers"
   ]
  },
  {
   "cell_type": "markdown",
   "metadata": {
    "id": "86HbueDu3iLo"
   },
   "source": [
    "Identifiers (also referred to as names) is given to entities like class, functions, variables etc. in Python. It helps differentiating one entity from another."
   ]
  },
  {
   "cell_type": "markdown",
   "metadata": {
    "id": "Yuivgmhh3iLo"
   },
   "source": [
    "Rules for Writing Identifiers:\n",
    "\n",
    "1. Identifiers can be a combination of letters in lowercase (a to z) or uppercase (A to Z) or digits (0 to 9) or an underscore (_).\n",
    "\n",
    "2. An identifier cannot start with a digit. <i>'99somename'</i> is invalid, but <i>'somename99'</i> is perfectly fine.\n",
    "\n",
    "3. Keywords cannot be used as identifiers."
   ]
  },
  {
   "cell_type": "code",
   "execution_count": 4,
   "metadata": {
    "colab": {
     "base_uri": "https://localhost:8080/",
     "height": 135
    },
    "id": "Q1O3apiN3iLp",
    "outputId": "959cb161-3e28-4175-a0d1-cd73ab5fc3c3"
   },
   "outputs": [
    {
     "ename": "SyntaxError",
     "evalue": "ignored",
     "output_type": "error",
     "traceback": [
      "\u001b[0;36m  File \u001b[0;32m\"<ipython-input-4-a0b55a4ec4cf>\"\u001b[0;36m, line \u001b[0;32m1\u001b[0m\n\u001b[0;31m    99name = 100      #Wrong way of defining identifiers\u001b[0m\n\u001b[0m         ^\u001b[0m\n\u001b[0;31mSyntaxError\u001b[0m\u001b[0;31m:\u001b[0m invalid syntax\n"
     ]
    }
   ],
   "source": [
    "99name = 100     "
   ]
  },
  {
   "cell_type": "code",
   "execution_count": 6,
   "metadata": {
    "colab": {
     "base_uri": "https://localhost:8080/"
    },
    "id": "4H6vuECn3iLp",
    "outputId": "c6921735-92c7-4ea3-c228-a9e9b100bf18"
   },
   "outputs": [
    {
     "name": "stdout",
     "output_type": "stream",
     "text": [
      "100\n"
     ]
    }
   ],
   "source": [
    "name99 = 100      \n",
    "print(name99)"
   ]
  },
  {
   "cell_type": "code",
   "execution_count": 7,
   "metadata": {
    "colab": {
     "base_uri": "https://localhost:8080/",
     "height": 135
    },
    "id": "p5gE1Tyd3iLq",
    "outputId": "5fa6ec32-9507-4ae8-8aec-bc1f447005ae"
   },
   "outputs": [
    {
     "ename": "SyntaxError",
     "evalue": "ignored",
     "output_type": "error",
     "traceback": [
      "\u001b[0;36m  File \u001b[0;32m\"<ipython-input-7-66f19cfa6c4e>\"\u001b[0;36m, line \u001b[0;32m1\u001b[0m\n\u001b[0;31m    break == 1             # Cannot use keyword as identifiers\u001b[0m\n\u001b[0m           ^\u001b[0m\n\u001b[0;31mSyntaxError\u001b[0m\u001b[0;31m:\u001b[0m invalid syntax\n"
     ]
    }
   ],
   "source": [
    "break == 1             "
   ]
  },
  {
   "cell_type": "markdown",
   "metadata": {
    "id": "MOjGVqiY3iLr"
   },
   "source": [
    " We cannot use special symbols like !, @, #, $, % etc. in our identifier."
   ]
  },
  {
   "cell_type": "code",
   "execution_count": 8,
   "metadata": {
    "colab": {
     "base_uri": "https://localhost:8080/",
     "height": 135
    },
    "id": "IL8HKgBx3iLr",
    "outputId": "d8978748-bb68-4f2f-8c58-e0b14895b590"
   },
   "outputs": [
    {
     "ename": "SyntaxError",
     "evalue": "ignored",
     "output_type": "error",
     "traceback": [
      "\u001b[0;36m  File \u001b[0;32m\"<ipython-input-8-5e6aa59d47a3>\"\u001b[0;36m, line \u001b[0;32m1\u001b[0m\n\u001b[0;31m    hello@ = 10           #can't use special symbols as an identifier\u001b[0m\n\u001b[0m           ^\u001b[0m\n\u001b[0;31mSyntaxError\u001b[0m\u001b[0;31m:\u001b[0m invalid syntax\n"
     ]
    }
   ],
   "source": [
    "hello@ = 10          "
   ]
  },
  {
   "cell_type": "markdown",
   "metadata": {
    "id": "GjVUdRan3iLr"
   },
   "source": [
    "### Few more correct identifiers"
   ]
  },
  {
   "cell_type": "code",
   "execution_count": 10,
   "metadata": {
    "colab": {
     "base_uri": "https://localhost:8080/"
    },
    "id": "4sUy5NHW3iLs",
    "outputId": "c42def91-beae-4a6b-8ac7-b77c08c023f4"
   },
   "outputs": [
    {
     "name": "stdout",
     "output_type": "stream",
     "text": [
      "variable1:  10\n",
      "variable2:  50\n",
      "variable3:  hi\n"
     ]
    }
   ],
   "source": [
    "hello = 10\n",
    "print('variable1: ',hello)\n",
    "\n",
    "hello123 = 50\n",
    "print('variable2: ',hello123)\n",
    "\n",
    "hello_123 = \"hi\"\n",
    "print('variable3: ',hello_1)"
   ]
  },
  {
   "cell_type": "markdown",
   "metadata": {
    "id": "kYL8YrnZ3iLu"
   },
   "source": [
    "# 3. Comments in Python"
   ]
  },
  {
   "cell_type": "markdown",
   "metadata": {
    "id": "M3k4U_Gd3iLu"
   },
   "source": [
    "A comment may appear at the start of a line or following whitespace or code, but not within a string literal.<br/>\n",
    "A hash character within a string literal is just a hash character.<br/>\n",
    "Comments are lines that are ignored by compilers and interpreters. <br/>\n",
    "### This is one of the best way to convey the idea behind the code and people reusing your code can easily make sense of your code"
   ]
  },
  {
   "cell_type": "markdown",
   "metadata": {
    "id": "D0FDIHIz3iLu"
   },
   "source": [
    "### Single line comment"
   ]
  },
  {
   "cell_type": "code",
   "execution_count": 13,
   "metadata": {
    "colab": {
     "base_uri": "https://localhost:8080/"
    },
    "id": "gbkggGK23iLv",
    "outputId": "43877af3-c191-4dfe-8f4c-7031629d1993"
   },
   "outputs": [
    {
     "name": "stdout",
     "output_type": "stream",
     "text": [
      "10\n"
     ]
    }
   ],
   "source": [
    "# This is a single line comment. Has no effect on the code below\n",
    "abc= 10\n",
    "print(abc)"
   ]
  },
  {
   "cell_type": "code",
   "execution_count": 12,
   "metadata": {
    "colab": {
     "base_uri": "https://localhost:8080/"
    },
    "id": "e-4zuN103iLv",
    "outputId": "2942fc85-0a30-4f83-ec44-e028d4240e58"
   },
   "outputs": [
    {
     "name": "stdout",
     "output_type": "stream",
     "text": [
      "10\n",
      "9\n",
      "hi\n"
     ]
    }
   ],
   "source": [
    "b=10\n",
    "c=9\n",
    "d=\"hi\"\n",
    "print(b)\n",
    "print(c)\n",
    "print(d)"
   ]
  },
  {
   "cell_type": "markdown",
   "metadata": {
    "id": "KigLEwc_3iLw"
   },
   "source": [
    "### Multi line comment"
   ]
  },
  {
   "cell_type": "code",
   "execution_count": 14,
   "metadata": {
    "id": "GfGrbV6y3iLw"
   },
   "outputs": [],
   "source": [
    "# You can write multiple lines of comment by putting a '#' at the beginning\n",
    "# You can write multiple lines of comment by putting a '#' at the beginning\n",
    "# You can write multiple lines of comment by putting a '#' at the beginning"
   ]
  },
  {
   "cell_type": "markdown",
   "metadata": {
    "id": "0pvxUl2N3iLw"
   },
   "source": [
    "### Docstring"
   ]
  },
  {
   "cell_type": "markdown",
   "metadata": {
    "id": "nU84hd-C3iLx"
   },
   "source": [
    "Docstring is short for documentation string.<p/>\n",
    "\n",
    "String that occurs as the first statement in a module, function, class, <br/>\n",
    "or method definition. Used to define what a function/class does."
   ]
  },
  {
   "cell_type": "code",
   "execution_count": null,
   "metadata": {
    "id": "NrxPPk_m3iLx",
    "outputId": "8571ebe5-15ce-4d4b-f4ac-4fff1d645d96"
   },
   "outputs": [
    {
     "data": {
      "text/plain": [
       "'\\nA better option to write multi line comment is by adding all your \\ntext between a set of 3-single or 3-double quotes. Like we have done here\\n'"
      ]
     },
     "execution_count": 1,
     "metadata": {},
     "output_type": "execute_result"
    }
   ],
   "source": [
    "\"\"\"\n",
    "A better option to write multi line comment is by adding all your \n",
    "text between a set of 3-single or 3-double quotes. Like we have done here\n",
    "\"\"\""
   ]
  },
  {
   "cell_type": "code",
   "execution_count": 15,
   "metadata": {
    "colab": {
     "base_uri": "https://localhost:8080/",
     "height": 36
    },
    "id": "G_OzTtQE3iLy",
    "outputId": "2067aced-17fb-420b-d2a2-32353b5ed5b3"
   },
   "outputs": [
    {
     "data": {
      "application/vnd.google.colaboratory.intrinsic+json": {
       "type": "string"
      },
      "text/plain": [
       "'\\na==                                                9\\n  b=                                                10\\n'"
      ]
     },
     "execution_count": 15,
     "metadata": {},
     "output_type": "execute_result"
    }
   ],
   "source": [
    "'''\n",
    "a==                                                9\n",
    "  b=                                                10\n",
    "'''"
   ]
  },
  {
   "cell_type": "code",
   "execution_count": 17,
   "metadata": {
    "colab": {
     "base_uri": "https://localhost:8080/"
    },
    "id": "3aVSiJ0P3iLy",
    "outputId": "674f9e2a-6242-4f9d-a8df-1c4b60553c6c"
   },
   "outputs": [
    {
     "name": "stdout",
     "output_type": "stream",
     "text": [
      "400\n"
     ]
    }
   ],
   "source": [
    "def square(num):\n",
    "\n",
    "    \n",
    "    \"\"\"\n",
    "    Function to square a number. \n",
    "    Print this docstring using __doc__ attribute of the function\n",
    "    \"\"\"\n",
    "    return num * num\n",
    "\n",
    "print(square(20))"
   ]
  },
  {
   "cell_type": "code",
   "execution_count": 18,
   "metadata": {
    "colab": {
     "base_uri": "https://localhost:8080/"
    },
    "id": "JjgRLld33iLy",
    "outputId": "91d94cc9-965c-4f34-a5d1-9699abf038e3"
   },
   "outputs": [
    {
     "name": "stdout",
     "output_type": "stream",
     "text": [
      "\n",
      "    Function to square a number. \n",
      "    Print this docstring using __doc__ attribute of the function\n",
      "    \n"
     ]
    }
   ],
   "source": [
    "print(square.__doc__)      # To print the docstring of a function use the __doc__ attribute of the function"
   ]
  },
  {
   "cell_type": "markdown",
   "metadata": {
    "id": "YnOHbMMN3iLz"
   },
   "source": [
    "# 4. Python Indentation"
   ]
  },
  {
   "cell_type": "markdown",
   "metadata": {
    "id": "8s5Jk7_a3iLz"
   },
   "source": [
    "Unlike C, C++, Java where we use braces { } to define a block of code, in Python we use indentation.\n",
    "\n",
    "A code block (body of a function, loop etc.) starts with indentation and ends with the first unindented line. The amount of indentation is up to you, but it must be consistent throughout that block.\n",
    "\n",
    "Generally four whitespaces are used for indentation and is preferred over tabs.\n",
    "\n",
    "Leading whitespace (spaces and tabs) at the beginning of a logical line is used to compute the indentation level of the line, <b>which in turn is used to determine the grouping of statements</b>."
   ]
  },
  {
   "cell_type": "code",
   "execution_count": 51,
   "metadata": {
    "colab": {
     "base_uri": "https://localhost:8080/",
     "height": 135
    },
    "id": "Fv62M9RR3iLz",
    "outputId": "a2c9652f-5e45-4e33-d152-eaabd0fbb7eb"
   },
   "outputs": [
    {
     "ename": "IndentationError",
     "evalue": "ignored",
     "output_type": "error",
     "traceback": [
      "\u001b[0;36m  File \u001b[0;32m\"<ipython-input-51-2e521c6f6764>\"\u001b[0;36m, line \u001b[0;32m2\u001b[0m\n\u001b[0;31m    v2 = 20          # Logical continuation disrupted\u001b[0m\n\u001b[0m    ^\u001b[0m\n\u001b[0;31mIndentationError\u001b[0m\u001b[0;31m:\u001b[0m unexpected indent\n"
     ]
    }
   ],
   "source": [
    "v1 = 10 \n",
    "  v2 = 20          # Logical continuation disrupted"
   ]
  },
  {
   "cell_type": "code",
   "execution_count": 52,
   "metadata": {
    "colab": {
     "base_uri": "https://localhost:8080/",
     "height": 135
    },
    "id": "GFYL5gK63iL0",
    "outputId": "e0e4eac2-d3d4-414e-b786-0b89f2315709"
   },
   "outputs": [
    {
     "ename": "IndentationError",
     "evalue": "ignored",
     "output_type": "error",
     "traceback": [
      "\u001b[0;36m  File \u001b[0;32m\"<ipython-input-52-d4e07b0ffa67>\"\u001b[0;36m, line \u001b[0;32m2\u001b[0m\n\u001b[0;31m    v2 = 20\u001b[0m\n\u001b[0m    ^\u001b[0m\n\u001b[0;31mIndentationError\u001b[0m\u001b[0;31m:\u001b[0m unexpected indent\n"
     ]
    }
   ],
   "source": [
    "                    v1 = 10 \n",
    "  v2 = 20"
   ]
  },
  {
   "cell_type": "code",
   "execution_count": 53,
   "metadata": {
    "id": "f3pV5mve3iL0"
   },
   "outputs": [],
   "source": [
    "           v1 = 10 \n",
    "           v2 = 20"
   ]
  },
  {
   "cell_type": "code",
   "execution_count": 54,
   "metadata": {
    "colab": {
     "base_uri": "https://localhost:8080/",
     "height": 135
    },
    "id": "eAxFUgmQ3iL1",
    "outputId": "7fe378c6-14c3-4b9d-92c4-3bd1f35d8abf"
   },
   "outputs": [
    {
     "ename": "IndentationError",
     "evalue": "ignored",
     "output_type": "error",
     "traceback": [
      "\u001b[0;36m  File \u001b[0;32m\"<ipython-input-54-60dc029a4e71>\"\u001b[0;36m, line \u001b[0;32m2\u001b[0m\n\u001b[0;31m    print(i) # Logical continuation maintained\u001b[0m\n\u001b[0m        ^\u001b[0m\n\u001b[0;31mIndentationError\u001b[0m\u001b[0;31m:\u001b[0m expected an indented block\n"
     ]
    }
   ],
   "source": [
    "for i in range (1,4):\n",
    "print(i) # Logical continuation maintained\n",
    "   \n",
    "    \n",
    "print(\"end\")"
   ]
  },
  {
   "cell_type": "code",
   "execution_count": 57,
   "metadata": {
    "colab": {
     "base_uri": "https://localhost:8080/"
    },
    "id": "e7AySaNF_qRG",
    "outputId": "079b9422-9d58-4a0a-9df0-2ed314f5b191"
   },
   "outputs": [
    {
     "name": "stdout",
     "output_type": "stream",
     "text": [
      "1\n",
      "end\n",
      "2\n",
      "end\n",
      "3\n",
      "end\n"
     ]
    }
   ],
   "source": [
    "for i in range (1,4):\n",
    "  print(i) # Logical continuation maintained\n",
    "  print(\"end\")\n",
    "   "
   ]
  },
  {
   "cell_type": "code",
   "execution_count": 58,
   "metadata": {
    "colab": {
     "base_uri": "https://localhost:8080/"
    },
    "id": "dLcVygaUPxe0",
    "outputId": "d55e25bd-c03c-4f33-adaf-adf80879d679"
   },
   "outputs": [
    {
     "name": "stdout",
     "output_type": "stream",
     "text": [
      "1\n",
      "2\n",
      "3\n",
      "end\n"
     ]
    }
   ],
   "source": [
    "for i in range (1,4):\n",
    "  print(i) # Logical continuation maintained\n",
    "print(\"end\")"
   ]
  },
  {
   "cell_type": "markdown",
   "metadata": {
    "id": "qVYpYYef3iL1"
   },
   "source": [
    "# 5. Python Statement"
   ]
  },
  {
   "cell_type": "markdown",
   "metadata": {
    "id": "t9HWWjl73iL1"
   },
   "source": [
    "Instructions that a Python interpreter can execute are called statements. For example, a = 1 is an assignment statement. if statement, for statement, while statement etc. are other kinds of statements which will be discussed later."
   ]
  },
  {
   "cell_type": "markdown",
   "metadata": {
    "id": "FNGxVmyP3iL1"
   },
   "source": [
    "### Single-line statement"
   ]
  },
  {
   "cell_type": "code",
   "execution_count": null,
   "metadata": {
    "id": "x0ZZI_pJ3iL2",
    "outputId": "06559e06-3e44-4b19-81b0-86d011968e2a"
   },
   "outputs": [
    {
     "name": "stdout",
     "output_type": "stream",
     "text": [
      "10\n",
      "(12, 23, 24, 25)\n"
     ]
    }
   ],
   "source": [
    "number = 10\n",
    "num = 12,23,24,25\n",
    "\n",
    "print(number)\n",
    "print(num)"
   ]
  },
  {
   "cell_type": "markdown",
   "metadata": {
    "id": "3AN8lkUy3iL2"
   },
   "source": [
    "### Multi-line statement \n",
    "(Use a continuation character '\\')"
   ]
  },
  {
   "cell_type": "code",
   "execution_count": 25,
   "metadata": {
    "colab": {
     "base_uri": "https://localhost:8080/"
    },
    "id": "BYOoXP9_3iL2",
    "outputId": "4e8179ba-ea5e-4d63-b72c-d1ca768c0607"
   },
   "outputs": [
    {
     "name": "stdout",
     "output_type": "stream",
     "text": [
      "150\n"
     ]
    }
   ],
   "source": [
    "number = 10 + 20 + \\\n",
    "         30 + 40 + \\\n",
    "         50\n",
    "\n",
    "print(number)"
   ]
  },
  {
   "cell_type": "markdown",
   "metadata": {
    "id": "1SHtuH1g3iL3"
   },
   "source": [
    "(Alternately use brackets)"
   ]
  },
  {
   "cell_type": "code",
   "execution_count": 27,
   "metadata": {
    "colab": {
     "base_uri": "https://localhost:8080/"
    },
    "id": "OdEzN9wk3iL3",
    "outputId": "1897bc88-577c-450f-a298-cb2f1f5b3f22"
   },
   "outputs": [
    {
     "name": "stdout",
     "output_type": "stream",
     "text": [
      "150\n"
     ]
    }
   ],
   "source": [
    "number = (10 + 20 + \n",
    "         30 + 40 + \n",
    "         50)\n",
    "    \n",
    "print(number)"
   ]
  },
  {
   "cell_type": "markdown",
   "metadata": {
    "id": "aud_Ih5_L54E"
   },
   "source": [
    "# **Variables**\n",
    "\n",
    "A variable is an alias given to a location in memory that is used to store some data (value).\n",
    "\n",
    "Each data point stored in the memory is given unique name to differentiate between different memory locations (and thus data points).\n",
    "The rules for writing a variable name is same as the rules for writing identifiers in Python.\n",
    "\n",
    "We don't need to declare a variable before using it. In Python, we simply assign a value to a variable and it will exist. We don't even have to declare the type of the variable. This is handled internally according to the type of value we assign to the variable."
   ]
  },
  {
   "cell_type": "markdown",
   "metadata": {
    "id": "R_1nd-7EMdG1"
   },
   "source": [
    "**Variable assignements**\n",
    "We use the assignment operator (=) to assign values to a variable"
   ]
  },
  {
   "cell_type": "code",
   "execution_count": 63,
   "metadata": {
    "colab": {
     "base_uri": "https://localhost:8080/",
     "height": 135
    },
    "id": "I0IWXYjVL7fD",
    "outputId": "6421f418-41c1-4fcb-97f0-74ad5212000c"
   },
   "outputs": [
    {
     "ename": "SyntaxError",
     "evalue": "ignored",
     "output_type": "error",
     "traceback": [
      "\u001b[0;36m  File \u001b[0;32m\"<ipython-input-63-5abc45a17b84>\"\u001b[0;36m, line \u001b[0;32m5\u001b[0m\n\u001b[0;31m    str = ''string''\u001b[0m\n\u001b[0m                 ^\u001b[0m\n\u001b[0;31mSyntaxError\u001b[0m\u001b[0;31m:\u001b[0m invalid syntax\n"
     ]
    }
   ],
   "source": [
    "int = 4\n",
    "dec = 22.2\n",
    "str = '''string'''\n",
    "str = 'string'\n",
    "str = ''string''\n",
    "str= \"string\"\n",
    "print(int, dec, str,str,str,str)"
   ]
  },
  {
   "cell_type": "code",
   "execution_count": 64,
   "metadata": {
    "colab": {
     "base_uri": "https://localhost:8080/"
    },
    "id": "oPjg4FHiNeXx",
    "outputId": "05e7d83a-fc06-4734-e145-69345b5a2e88"
   },
   "outputs": [
    {
     "name": "stdout",
     "output_type": "stream",
     "text": [
      "10 3.5 welcome\n"
     ]
    }
   ],
   "source": [
    "a=10\n",
    "b=3.5\n",
    "c=\"welcome\"\n",
    "\n",
    "print(a,b,c)"
   ]
  },
  {
   "cell_type": "markdown",
   "metadata": {
    "id": "4acJV1zjNhmR"
   },
   "source": [
    "**Multiple assignements**\n",
    "Use comma to seperate the variables and their corresponding values"
   ]
  },
  {
   "cell_type": "code",
   "execution_count": 66,
   "metadata": {
    "colab": {
     "base_uri": "https://localhost:8080/"
    },
    "id": "QaRU7jnGNkBR",
    "outputId": "feb6d3ad-313b-4bce-c886-da13f5222011"
   },
   "outputs": [
    {
     "name": "stdout",
     "output_type": "stream",
     "text": [
      "4 22.2 StringValue\n"
     ]
    }
   ],
   "source": [
    "int, dec, str = 4, 22.2, \"StringValue\"\n",
    "print(int, dec, str)"
   ]
  },
  {
   "cell_type": "markdown",
   "metadata": {
    "id": "VmHI5YjTNvNE"
   },
   "source": [
    "To initialize multiple variables with same value use 1 assignment"
   ]
  },
  {
   "cell_type": "code",
   "execution_count": 67,
   "metadata": {
    "colab": {
     "base_uri": "https://localhost:8080/"
    },
    "id": "SWwEJVQLNwne",
    "outputId": "b709323a-cd7b-45a1-e073-89b44d9523e3"
   },
   "outputs": [
    {
     "name": "stdout",
     "output_type": "stream",
     "text": [
      " All variable assigned same value   All variable assigned same value   All variable assigned same value \n"
     ]
    }
   ],
   "source": [
    "variable1=variable2=variable3 = \" All variable assigned same value \"\n",
    "print(variable1,variable2,variable3)"
   ]
  },
  {
   "cell_type": "markdown",
   "metadata": {
    "id": "NvTLD5fKN168"
   },
   "source": [
    "**Storage Locations**"
   ]
  },
  {
   "cell_type": "code",
   "execution_count": 69,
   "metadata": {
    "colab": {
     "base_uri": "https://localhost:8080/"
    },
    "id": "IU0NdT3SN3W8",
    "outputId": "2dc9f4c9-927e-4326-f1ed-36933d349c83"
   },
   "outputs": [
    {
     "name": "stdout",
     "output_type": "stream",
     "text": [
      "11126784\n"
     ]
    }
   ],
   "source": [
    "int = 4\n",
    "print(id(int))"
   ]
  },
  {
   "cell_type": "code",
   "execution_count": 45,
   "metadata": {
    "colab": {
     "base_uri": "https://localhost:8080/"
    },
    "id": "7jgOIjbjOYJo",
    "outputId": "9a68ad25-7ed4-4c8d-fa9b-46423441365b"
   },
   "outputs": [
    {
     "name": "stdout",
     "output_type": "stream",
     "text": [
      "11126976\n",
      "140358863768272\n"
     ]
    }
   ],
   "source": [
    "a=10\n",
    "\n",
    "b=10.7\n",
    "\n",
    "print(id(a))\n",
    "\n",
    "print(id(b))"
   ]
  },
  {
   "cell_type": "code",
   "execution_count": 70,
   "metadata": {
    "colab": {
     "base_uri": "https://localhost:8080/"
    },
    "id": "9mtyiIqHOc_4",
    "outputId": "8f2e4e9d-92b9-452b-f095-818d520f746f"
   },
   "outputs": [
    {
     "name": "stdout",
     "output_type": "stream",
     "text": [
      "11126976\n",
      "11126976\n",
      "11126976\n"
     ]
    }
   ],
   "source": [
    "int1 = 10\n",
    "int2 = 10\n",
    "inti=10\n",
    "\n",
    "print(id(integer1))   \n",
    "print(id(integer2))   \n",
    "print(id(inti))"
   ]
  },
  {
   "cell_type": "markdown",
   "metadata": {
    "id": "z-R28lKLTg1U"
   },
   "source": [
    "# **Data Types**\n",
    "Every value in Python has a datatype. Since everything is an object in Python programming, data types are actually classes and variables are instance (object) of these classes.\n",
    "\n",
    "Below are few of the commonly used data types"
   ]
  },
  {
   "cell_type": "markdown",
   "metadata": {
    "id": "qAQayAeqTpmN"
   },
   "source": [
    "**Python Numbers**\n",
    "Integers, floating point numbers and complex numbers falls under Python numbers category. They are defined as int, float and complex class in Python.\n",
    "\n",
    "We can use the **type()** function to know which class a variable or a value belongs to\n",
    "and the **isinstance()** function to check if an object belongs to a particular class."
   ]
  },
  {
   "cell_type": "code",
   "execution_count": null,
   "metadata": {
    "id": "cePvSQ9iTric"
   },
   "outputs": [],
   "source": [
    "data1 = 25.88                              # integer data type\n",
    "print(data1, \" is of type\", type(data1))"
   ]
  },
  {
   "cell_type": "code",
   "execution_count": null,
   "metadata": {
    "id": "SlvsK9gXT1Lt"
   },
   "outputs": [],
   "source": [
    "a='welcome'\n",
    "type(a)"
   ]
  },
  {
   "cell_type": "code",
   "execution_count": null,
   "metadata": {
    "id": "e8FYn2fXT4Zb"
   },
   "outputs": [],
   "source": [
    "a=\"welcome\"\n",
    "\n",
    "b=40\n",
    "\n",
    "print(a)\n",
    "print(b)\n",
    "print(type(a))\n",
    "print(type(b))"
   ]
  },
  {
   "cell_type": "code",
   "execution_count": null,
   "metadata": {
    "id": "PeshtgheT6VM"
   },
   "outputs": [],
   "source": [
    "data2 = 12.5                            # float data type\n",
    "print(data2, \" is of type\", type(data2))"
   ]
  },
  {
   "cell_type": "code",
   "execution_count": null,
   "metadata": {
    "id": "96bent8aT8JG"
   },
   "outputs": [],
   "source": [
    "data3 = 100 + 20j                          #data type is changed to complex number\n",
    "print(data3, \" is complex number?\", isinstance(data3, complex))"
   ]
  },
  {
   "cell_type": "markdown",
   "metadata": {
    "id": "QOoYeIe-UBuo"
   },
   "source": [
    "**Boolean**\n",
    "\n",
    "Boolean represents True or False values"
   ]
  },
  {
   "cell_type": "code",
   "execution_count": null,
   "metadata": {
    "id": "pq7eHTtNUFIP"
   },
   "outputs": [],
   "source": [
    "booleanVariable = True                          # 'booleanVariable' is a boolean type & True is a keyword\n",
    "print(type(booleanVariable))"
   ]
  },
  {
   "cell_type": "markdown",
   "metadata": {
    "id": "R_9DverVUeBG"
   },
   "source": [
    "**Python Strings**\n",
    "\n",
    "String is sequence of Unicode characters. We can use single quotes or double quotes to represent strings.\n",
    "Multi-line strings can be denoted using triple quotes(single/double), ''' or \"\"\".\n",
    "\n",
    "A string in Python consists of a series or sequence of characters - letters, numbers, and special characters.\n",
    "\n",
    "Strings can be indexed - often synonymously called subscripted as well.\n",
    "\n",
    "The first character of a string has the index 0."
   ]
  },
  {
   "cell_type": "code",
   "execution_count": 72,
   "metadata": {
    "colab": {
     "base_uri": "https://localhost:8080/"
    },
    "id": "3vDvNcc5Vujb",
    "outputId": "28e4b76e-bb0a-4e79-e685-bc019c8dd650"
   },
   "outputs": [
    {
     "name": "stdout",
     "output_type": "stream",
     "text": [
      "stringVariable is :  This is a string variable\n",
      "First character in stringVariable is :  hi\n"
     ]
    }
   ],
   "source": [
    "s = \"This is a string variable\"\n",
    "print('stringVariable is : ',s)\n",
    "print('First character in stringVariable is : ',s[1:3])"
   ]
  },
  {
   "cell_type": "code",
   "execution_count": 73,
   "metadata": {
    "colab": {
     "base_uri": "https://localhost:8080/"
    },
    "id": "gGrcSm0zWhdh",
    "outputId": "928e9310-6d72-4e04-97b7-23d5d99c5949"
   },
   "outputs": [
    {
     "name": "stdout",
     "output_type": "stream",
     "text": [
      "StringV\n",
      "StringV\n",
      "gValue\n"
     ]
    }
   ],
   "source": [
    "# Slicing of String variable\n",
    "print(stringVariable[0:7])\n",
    "print(stringVariable[:7])\n",
    "print(stringVariable[5:])"
   ]
  },
  {
   "cell_type": "code",
   "execution_count": 74,
   "metadata": {
    "colab": {
     "base_uri": "https://localhost:8080/"
    },
    "id": "0GtipXvVWvtq",
    "outputId": "6e6f3e48-2474-4335-8eb8-c02722685dc9"
   },
   "outputs": [
    {
     "name": "stdout",
     "output_type": "stream",
     "text": [
      "welco\n",
      " to zetacodin\n",
      "welcome to\n",
      "welcome to zetacoding innovative solutions\n",
      " zetacoding innov\n"
     ]
    }
   ],
   "source": [
    "name=\"welcome to zetacoding innovative solutions\"\n",
    "\n",
    "print(name[0:5])\n",
    "\n",
    "print(name[7:20])\n",
    "\n",
    "print(name[:10])\n",
    "\n",
    "print(name[::])\n",
    "\n",
    "print(name[10:27])"
   ]
  },
  {
   "cell_type": "markdown",
   "metadata": {
    "id": "bg9GI5RDW1Bz"
   },
   "source": [
    "# **Python List**\n",
    "\n",
    "List is an ordered sequence of items. It is one of the most used datatype in Python and is very flexible.\n",
    "\n",
    "All the items in a list do not need to be of the same type.\n",
    "\n",
    "Declaring a list is pretty straight forward. Items separated by commas are enclosed within square brackets '[ ]'."
   ]
  },
  {
   "cell_type": "code",
   "execution_count": 75,
   "metadata": {
    "colab": {
     "base_uri": "https://localhost:8080/"
    },
    "id": "3VMFft0-XGZv",
    "outputId": "6f8a5b8e-d750-4997-fdc1-9ee228031174"
   },
   "outputs": [
    {
     "name": "stdout",
     "output_type": "stream",
     "text": [
      "[1, 2.2, 'ThirdElement', 12, 24, 'More values']\n"
     ]
    }
   ],
   "source": [
    "myList = [1, 2.2, \"ThirdElement\",12,24,\"More values\"]\n",
    "print(myList)  "
   ]
  },
  {
   "cell_type": "code",
   "execution_count": 76,
   "metadata": {
    "colab": {
     "base_uri": "https://localhost:8080/"
    },
    "id": "M-HmWcbzXIaY",
    "outputId": "6bc5774f-4f53-4af8-a151-2d1041734f89"
   },
   "outputs": [
    {
     "name": "stdout",
     "output_type": "stream",
     "text": [
      "ThirdElement\n"
     ]
    }
   ],
   "source": [
    "print(myList[2]) "
   ]
  },
  {
   "cell_type": "code",
   "execution_count": null,
   "metadata": {
    "id": "pL9x9z9MXKww"
   },
   "outputs": [],
   "source": [
    "myList[2] = \"ElementThree\"\n",
    "print(myList) "
   ]
  },
  {
   "cell_type": "code",
   "execution_count": null,
   "metadata": {
    "id": "jqyJaGaFXMRI"
   },
   "outputs": [],
   "source": [
    "myList.remove(2.2)                             # Remove item from a particular index\n",
    "print(myList)"
   ]
  },
  {
   "cell_type": "code",
   "execution_count": null,
   "metadata": {
    "id": "OH3ibVfCXNyI"
   },
   "outputs": [],
   "source": [
    "myList.pop(2)                                 # Remove item from a particular index\n",
    "print(myList)"
   ]
  },
  {
   "cell_type": "code",
   "execution_count": null,
   "metadata": {
    "id": "8Ai-6zdMXP1F"
   },
   "outputs": [],
   "source": [
    "myList.append(2.2)                            # Add item at the last index\n",
    "print(myList)"
   ]
  }
 ],
 "metadata": {
  "colab": {
   "collapsed_sections": [],
   "provenance": []
  },
  "kernelspec": {
   "display_name": "Python 3 (ipykernel)",
   "language": "python",
   "name": "python3"
  },
  "language_info": {
   "codemirror_mode": {
    "name": "ipython",
    "version": 3
   },
   "file_extension": ".py",
   "mimetype": "text/x-python",
   "name": "python",
   "nbconvert_exporter": "python",
   "pygments_lexer": "ipython3",
   "version": "3.9.12"
  }
 },
 "nbformat": 4,
 "nbformat_minor": 1
}
