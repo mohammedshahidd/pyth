{
 "cells": [
  {
   "cell_type": "markdown",
   "metadata": {},
   "source": [
    "# Class and Objects"
   ]
  },
  {
   "cell_type": "markdown",
   "metadata": {},
   "source": [
    "# Accessing the object variable"
   ]
  },
  {
   "cell_type": "code",
   "execution_count": 17,
   "metadata": {},
   "outputs": [
    {
     "data": {
      "text/plain": [
       "'zetacoding'"
      ]
     },
     "execution_count": 17,
     "metadata": {},
     "output_type": "execute_result"
    }
   ],
   "source": [
    "class MyClass:\n",
    "    var = \"zetacoding\"\n",
    "\n",
    "    def function(self):\n",
    "        print(\" Inside the class.\")\n",
    "\n",
    "myobjectx = MyClass()      #To access the variable inside of the newly created object \"myobjectx\"\n",
    "\n",
    "myobjectx.var\n",
    "#myobjectx.function()"
   ]
  },
  {
   "cell_type": "code",
   "execution_count": 3,
   "metadata": {},
   "outputs": [
    {
     "name": "stdout",
     "output_type": "stream",
     "text": [
      "zetacoding\n",
      " Inside the class.\n",
      "None\n"
     ]
    }
   ],
   "source": [
    "print(myobjectx.var) # for instance the below would output the string \n",
    "print(myobjectx.function())"
   ]
  },
  {
   "cell_type": "markdown",
   "metadata": {},
   "source": [
    "## Multiple different objects that are of the same class"
   ]
  },
  {
   "cell_type": "code",
   "execution_count": 6,
   "metadata": {},
   "outputs": [
    {
     "name": "stdout",
     "output_type": "stream",
     "text": [
      "zetacoding\n",
      "Innovative\n"
     ]
    }
   ],
   "source": [
    "class MyClass:\n",
    "    var = \"zetacoding\"\n",
    "\n",
    "    def function(self):\n",
    "        print(\" Inside the class.\")\n",
    "\n",
    "x = MyClass()\n",
    "y = MyClass()\n",
    "\n",
    "y.var = \"Innovative\"\n",
    "\n",
    "# Then print out both values\n",
    "print(x.var)\n",
    "print(y.var)"
   ]
  },
  {
   "cell_type": "markdown",
   "metadata": {},
   "source": [
    "# Accessing Object Functions"
   ]
  },
  {
   "cell_type": "code",
   "execution_count": 7,
   "metadata": {},
   "outputs": [
    {
     "name": "stdout",
     "output_type": "stream",
     "text": [
      "Inside the class.\n"
     ]
    }
   ],
   "source": [
    "class MyClass:\n",
    "    var = \"Zetacoding\"\n",
    "\n",
    "    def function(self):\n",
    "        print(\"Inside the class.\")\n",
    "\n",
    "x = MyClass()\n",
    "\n",
    "x.function()"
   ]
  },
  {
   "cell_type": "markdown",
   "metadata": {},
   "source": [
    "<h1> Example 1 </h1>"
   ]
  },
  {
   "cell_type": "code",
   "execution_count": 19,
   "metadata": {},
   "outputs": [
    {
     "name": "stdout",
     "output_type": "stream",
     "text": [
      "Mercedes Benz is a red Passenger worth $60000.00.\n",
      "Jump is a blue van worth $10000.00.\n"
     ]
    }
   ],
   "source": [
    "# We have a class defined for vehicles. Create two new vehicles called car1\n",
    "# and car2. \n",
    "#Set car1 to be a red convertible worth $60,000.00 with a name of Fer,\n",
    "#and car2 to be a blue van named Jump worth $10,000.00.\n",
    "\n",
    "#define the Vehicle class\n",
    "class Vehicle:\n",
    "    name = \"\"\n",
    "    kind = \"car\"\n",
    "    color = \"\"\n",
    "    value = 0\n",
    "    def description(self):\n",
    "        desc_str = \"%s is a %s %s worth $%.2f.\" % (self.name, self.color, self.kind, self.value)\n",
    "        return desc_str\n",
    "\n",
    "# your code goes here\n",
    "car1 = Vehicle()\n",
    "car1.name = \"Mercedes Benz\"\n",
    "car1.color = \"red\"\n",
    "car1.kind = \"Passenger\"\n",
    "car1.value = 60000.00\n",
    "\n",
    "car2 = Vehicle()\n",
    "car2.name = \"Jump\"\n",
    "car2.color = \"blue\"\n",
    "car2.kind = \"van\"\n",
    "car2.value = 10000.00\n",
    "\n",
    "# test code\n",
    "print(car1.description())\n",
    "print(car2.description())\n"
   ]
  },
  {
   "cell_type": "code",
   "execution_count": null,
   "metadata": {},
   "outputs": [],
   "source": [
    "# CREATE A STUDENT CLASS:\n",
    "\n",
    "IN THAT CREATE 4 STUDENTS DETAILS\n",
    "\n",
    "STUDENT 1 :USN NAME SEM PERCENTAGE\n",
    "STUDENT 2\n",
    "STUDENT 3\n",
    "STUDENT 4\n",
    "\n",
    "\n",
    "**********************************************\n",
    "                STUDENT INFORMATION\n",
    "**********************************************\n",
    "STUDENT1:DETAILS\n",
    "----------------------------------------------\n",
    "NAME:\n",
    "USN:\n",
    "SEM:\n",
    "PERCENTAGE:\n",
    "----------------------------------------------\n",
    "STUDENT2:DETAILS\n",
    "----------------------------------------------\n",
    "NAME:\n",
    "USN:\n",
    "SEM:\n",
    "PERCENTAGE:\n",
    "----------------------------------------------\n",
    "STUDENT3:DETAILS\n",
    "----------------------------------------------\n",
    "NAME:\n",
    "USN:\n",
    "SEM:\n",
    "PERCENTAGE:\n",
    "----------------------------------------------\n",
    "\n",
    "\n",
    "\n",
    "\n"
   ]
  },
  {
   "cell_type": "code",
   "execution_count": 14,
   "metadata": {},
   "outputs": [
    {
     "name": "stdout",
     "output_type": "stream",
     "text": [
      "****************************\n",
      "\n",
      "   STUDENT INFORMATION\n",
      "\n",
      "****************************\n",
      "\n",
      "STUDENT1:DETAILS\n",
      "---------------------------\n",
      "\n",
      "Name= pooja\n",
      "USN= 1CS001\n",
      "SEM= 7th sem\n",
      "Percentage 7.5\n",
      "None\n",
      "---------------------------\n",
      "\n",
      "STUDENT2:DETAILS\n",
      "---------------------------\n",
      "\n",
      "Name= raj\n",
      "USN= 1CS002\n",
      "SEM= 7th sem\n",
      "Percentage 8.5\n",
      "None\n",
      "---------------------------\n",
      "\n",
      "STUDENT3:DETAILS\n",
      "---------------------------\n",
      "\n",
      "Name= divya\n",
      "USN= 1CS003\n",
      "SEM= 7th sem\n",
      "Percentage 6.5\n",
      "None\n",
      "---------------------------\n",
      "\n"
     ]
    }
   ],
   "source": [
    "class student:\n",
    "    name = \"\"\n",
    "    usn = \"\"\n",
    "    sem = \"7th sem\"\n",
    "    per = 0.0\n",
    "    def description(self):\n",
    "        print(\"Name=\",self.name)\n",
    "        print(\"USN=\",self.usn)\n",
    "        print(\"SEM=\",self.sem)\n",
    "        print(\"Percentage\",self.per)\n",
    "    \n",
    "\n",
    "# your code goes here\n",
    "print(\"****************************\\n\")\n",
    "print(\"   STUDENT INFORMATION\\n\")\n",
    "print(\"****************************\\n\")\n",
    "std1=student()\n",
    "std1.name = \"pooja\"\n",
    "std1.usn = \"1CS001\"\n",
    "std1.per = 7.5\n",
    "\n",
    "std2=student()\n",
    "std2.name = \"raj\"\n",
    "std2.usn = \"1CS002\"\n",
    "std2.per = 8.5\n",
    "\n",
    "std3=student()\n",
    "std3.name = \"divya\"\n",
    "std3.usn = \"1CS003\"\n",
    "std3.per= 6.5\n",
    "\n",
    "\n",
    "\n",
    "# test code\n",
    "print(\"STUDENT1:DETAILS\")\n",
    "print(\"---------------------------\\n\")\n",
    "print(std1.description())\n",
    "print(\"---------------------------\\n\")\n",
    "print(\"STUDENT2:DETAILS\")\n",
    "print(\"---------------------------\\n\")\n",
    "print(std2.description())\n",
    "print(\"---------------------------\\n\")\n",
    "print(\"STUDENT3:DETAILS\")\n",
    "print(\"---------------------------\\n\")\n",
    "print(std3.description())\n",
    "print(\"---------------------------\\n\")\n",
    "\n"
   ]
  },
  {
   "cell_type": "markdown",
   "metadata": {},
   "source": [
    "<h1> Example 2 </h1>"
   ]
  },
  {
   "cell_type": "code",
   "execution_count": null,
   "metadata": {},
   "outputs": [],
   "source": [
    "class Parrot:\n",
    "\n",
    "    # class attribute\n",
    "    species = \"bird\"\n",
    "\n",
    "    # instance attribute\n",
    "    def __init__(self, name, age):\n",
    "        self.name = name\n",
    "        self.age = age\n",
    "\n",
    "# instantiate the Parrot class\n",
    "blu = Parrot(\"Blu\", 10) #Construcor created\n",
    "woo = Parrot(\"Woo\", 15)\n",
    "\n",
    "# access the class attributes\n",
    "print(\"Blu is a {}\".format(blu.__class__.species))\n",
    "print(\"Woo is also a {}\".format(woo.__class__.species))\n",
    "\n",
    "# access the instance attributes\n",
    "print(\"{} is {} years old\".format( blu.name, blu.age))\n",
    "print(\"{} is {} years old\".format( woo.name, woo.age))\n",
    "\n",
    "\n",
    "print(blu.name,blu.age)\n",
    "print(woo.name,woo.age)"
   ]
  },
  {
   "cell_type": "code",
   "execution_count": null,
   "metadata": {},
   "outputs": [],
   "source": [
    "# Constructor\n",
    "\n",
    "class A:\n",
    "    a=10\n",
    "    b=20\n",
    "    def __init__(self,c,d,e):    # Constructor is to initilize the\n",
    "        print(\"init is started in class A\")\n",
    "        self.m=c\n",
    "        self.n=d\n",
    "        self.o=e\n",
    "        print(\"init is ended\")\n",
    "\n",
    "obj = A(40,50,60)\n",
    "\n",
    "#obj.a\n",
    "#obj.b\n",
    "#obj.m\n",
    "#obj.n\n",
    "#obj.o"
   ]
  },
  {
   "cell_type": "markdown",
   "metadata": {},
   "source": [
    "class A\n",
    "                                                        obj\n",
    "\n",
    "        k             v                              k             v\n",
    "a1      a             10                             a             a1\n",
    "a2      b             20                             b             a2\n",
    "a3     init(c,d,e)  address                      init(c,d,e)       a3\n",
    "                                                     m             40\n",
    "                                                     n             50\n",
    "                                                     o             60\n"
   ]
  },
  {
   "cell_type": "markdown",
   "metadata": {},
   "source": [
    "<h1> Inheritance </h1> \n",
    "\n",
    "Inheritance is a process of getting the property from one class to another class is called an inheritance.\n",
    "\n",
    "\n",
    "Syntax \n",
    "\n",
    "                class parent:\n",
    "                    statements\n",
    "\n",
    "                class child(parent):\n",
    "                    statements"
   ]
  },
  {
   "cell_type": "code",
   "execution_count": null,
   "metadata": {},
   "outputs": [],
   "source": [
    "#Create a Parent Class or Base Class"
   ]
  },
  {
   "cell_type": "code",
   "execution_count": null,
   "metadata": {},
   "outputs": [],
   "source": [
    "#Create a class named Person, with firstname and lastname properties, and a printname method:\n",
    "\n",
    "class Person:\n",
    "  def __init__(self, fname, lname):\n",
    "    self.firstname = fname\n",
    "    self.lastname = lname\n",
    "\n",
    "  def printname(self):\n",
    "    print(self.firstname, self.lastname)\n",
    "\n",
    "#Use the Person class to create an object, and then execute the printname method:\n",
    "\n",
    "x = Person(\"Data\",\"Science\")\n",
    "x.printname()"
   ]
  },
  {
   "cell_type": "code",
   "execution_count": null,
   "metadata": {},
   "outputs": [],
   "source": [
    "#create Child class or derived class\n",
    "\n",
    "class Student(Person):\n",
    "    pass"
   ]
  },
  {
   "cell_type": "code",
   "execution_count": null,
   "metadata": {},
   "outputs": [],
   "source": [
    "#Use the Student class to create an object, and then execute the printname method:\n",
    "\n",
    "x = Student(\"Rohit\", \"Asha\")\n",
    "x.printname()"
   ]
  },
  {
   "cell_type": "code",
   "execution_count": null,
   "metadata": {},
   "outputs": [],
   "source": [
    "  #__init__() function is called automatically every time the class is being used\n",
    "    #to create a new object.\n",
    "\n",
    "class Student(Person):\n",
    "    def __init__(self, fname, lname):\n",
    "        Person.__init__(self, fname, lname)"
   ]
  },
  {
   "cell_type": "code",
   "execution_count": null,
   "metadata": {},
   "outputs": [],
   "source": [
    "# Python also has a super() function that will make the child class inherit \n",
    "#all the methods and properties from its parent:\n",
    "\n",
    "class Student(Person):\n",
    "    def __init__(self, fname, lname):\n",
    "        super().__init__(fname, lname)\n",
    "        \n",
    "#By using the super() function, you do not have to use the name of the parent element,\n",
    "#it will automatically inherit the methods and properties from its parent class"
   ]
  },
  {
   "cell_type": "code",
   "execution_count": null,
   "metadata": {},
   "outputs": [],
   "source": [
    "#Add a property called graduationyear to the Student class:\n",
    "class Student(Person):\n",
    "  def __init__(self, fname, lname):\n",
    "    super().__init__(fname, lname)\n",
    "    self.graduationyear = 2019"
   ]
  },
  {
   "cell_type": "code",
   "execution_count": null,
   "metadata": {},
   "outputs": [],
   "source": [
    "#Add a year parameter, and pass the correct year when creating objects:\n",
    "\n",
    "class Student(Person):\n",
    "    def __init__(self, fname, lname, year):\n",
    "        super().__init__(fname, lname)\n",
    "        self.graduationyear = year\n",
    "\n",
    "x = Student(\"Mike\", \"Olsen\", 2019)\n"
   ]
  },
  {
   "cell_type": "markdown",
   "metadata": {},
   "source": [
    "<h1> Example : Inheritance </h1"
   ]
  },
  {
   "cell_type": "code",
   "execution_count": null,
   "metadata": {},
   "outputs": [],
   "source": [
    "\n",
    "# parent class\n",
    "class Bird:\n",
    "    \n",
    "    def __init__(self):\n",
    "        print(\"Bird is ready\")\n",
    "\n",
    "    def whoisThis(self):\n",
    "        print(\"Bird\")\n",
    "\n",
    "    def swim(self):\n",
    "        print(\"Swim faster\")\n",
    "\n",
    "# child class\n",
    "class Penguin(Bird):\n",
    "\n",
    "    def __init__(self):\n",
    "        # call super() function\n",
    "        super().__init__()\n",
    "        print(\"Penguin is ready\")\n",
    "\n",
    "    def whoisThis(self):\n",
    "        print(\"Penguin\")\n",
    "\n",
    "    def run(self):\n",
    "        print(\"Run faster\")\n",
    "\n",
    "peggy = Penguin()\n",
    "peggy.whoisThis()\n",
    "peggy.swim()\n",
    "peggy.run()"
   ]
  },
  {
   "cell_type": "markdown",
   "metadata": {},
   "source": [
    "<h1> Example : Encapsulation </h1>"
   ]
  },
  {
   "cell_type": "markdown",
   "metadata": {},
   "source": [
    "Using OOP in Python, we can restrict access to methods and variables. \n",
    "This prevents data from direct modification which is called encapsulation. \n",
    "In Python, we denote private attributes using underscore as the prefix i.e single _ or double __."
   ]
  },
  {
   "cell_type": "code",
   "execution_count": null,
   "metadata": {},
   "outputs": [],
   "source": [
    "class Computer:\n",
    "\n",
    "    def __init__(self):\n",
    "        self.__maxprice = 15000\n",
    "\n",
    "    def sell(self):\n",
    "        print(\"Selling Price: {}\".format(self.__maxprice))\n",
    "\n",
    "    def setMaxPrice(self, price):\n",
    "        self.__maxprice = price\n",
    "\n",
    "c = Computer()\n",
    "c.sell()\n",
    "\n",
    "# change the price\n",
    "c.__maxprice = 32000     #encapsulation present = not to modify\n",
    "c.sell()\n",
    "\n",
    "# using setter function\n",
    "c.setMaxPrice(32000)\n",
    "c.sell()"
   ]
  },
  {
   "cell_type": "markdown",
   "metadata": {},
   "source": [
    "In the above program, we defined a Computer class.\n",
    "\n",
    "We used __init__() method to store the maximum selling price of Computer.\n",
    "We tried to modify the price. However, we can't change it because Python treats the __maxprice \n",
    "as private attributes.\n",
    "\n",
    "As shown, to change the value, we have to use a setter function\n",
    "i.e setMaxPrice() which takes price as a parameter."
   ]
  },
  {
   "cell_type": "markdown",
   "metadata": {},
   "source": [
    "<h1>Example : Polymorphism</h1>"
   ]
  },
  {
   "cell_type": "markdown",
   "metadata": {},
   "source": [
    "Polymorphism is an ability (in OOP) to use a common interface for multiple forms (data types).\n",
    "\n",
    "Suppose, we need to color a shape, there are multiple shape options (rectangle, square, circle).\n",
    "However we could use the same method to color any shape.\n",
    "This concept is called Polymorphism."
   ]
  },
  {
   "cell_type": "code",
   "execution_count": null,
   "metadata": {},
   "outputs": [],
   "source": [
    "class Parrot:\n",
    "\n",
    "    def fly(self):\n",
    "        print(\"Parrot can fly\")\n",
    "    \n",
    "    def swim(self):\n",
    "        print(\"Parrot can't swim\")\n",
    "\n",
    "class Penguin:\n",
    "\n",
    "    def fly(self):\n",
    "        print(\"Penguin can't fly\")\n",
    "    \n",
    "    def swim(self):\n",
    "        print(\"Penguin can swim\")\n",
    "\n",
    "# common interface\n",
    "def flying_test(bird):\n",
    "    bird.fly()\n",
    "\n",
    "#instantiate objects\n",
    "blu = Parrot()\n",
    "peggy = Penguin()\n",
    "\n",
    "# passing the object\n",
    "flying_test(blu)\n",
    "flying_test(peggy)"
   ]
  },
  {
   "cell_type": "markdown",
   "metadata": {},
   "source": [
    "###### In the above program, we defined two classes Parrot and Penguin. \n",
    "Each of them have a common fly() method. However, their functions are different.\n",
    "\n",
    "To use polymorphism, we created a common interface i.e flying_test() function \n",
    "that takes any object and calls the object's fly() method.\n",
    "Thus, when we passed the blu and peggy objects in the flying_test() function, it ran effectively."
   ]
  },
  {
   "cell_type": "markdown",
   "metadata": {},
   "source": [
    "# Inheritance : Types"
   ]
  },
  {
   "cell_type": "code",
   "execution_count": null,
   "metadata": {},
   "outputs": [],
   "source": [
    "#1. Single Inheritance\n",
    "\n",
    "class A:\n",
    "    num1=10\n",
    "    num2=20\n",
    "    \n",
    "class B(A):\n",
    "    pass\n",
    "\n",
    "print(\" Number one of A is \",A.num1)\n",
    "print(\" Number Two of A is \",A.num2)\n",
    "print(\" Number one of B is \",B.num1)\n",
    "print(\" Number Two of B is \",B.num2)\n"
   ]
  },
  {
   "cell_type": "code",
   "execution_count": null,
   "metadata": {},
   "outputs": [],
   "source": [
    "#1. Single Inheritance - example 2\n",
    "\n",
    "class A:\n",
    "    num1=10\n",
    "    num2=20\n",
    "    \n",
    "\n",
    "class B(A):\n",
    "    p=30\n",
    "    q=\"hello\"\n",
    "\n",
    "print(\" Number one of A is \",A.num1)\n",
    "print(\" Number Two of A is \",A.num2)\n",
    "print(\" Number one of B is \",B.num1)\n",
    "print(\" Number Two of B is \",B.num2)\n",
    "\n",
    "print(\" Number in  B is \",B.p)\n",
    "print(\" Data in B is \",B.q)\n",
    "\n"
   ]
  },
  {
   "cell_type": "markdown",
   "metadata": {},
   "source": [
    "# Multiple Inheritance"
   ]
  },
  {
   "cell_type": "code",
   "execution_count": null,
   "metadata": {},
   "outputs": [],
   "source": [
    "class Calculation1:  \n",
    "    def Summation(self,a,b):  \n",
    "        return a+b;  \n",
    "    \n",
    "class Calculation2:  \n",
    "    def Multiplication(self,a,b):  \n",
    "        return a*b;  \n",
    "    \n",
    "class Derived(Calculation1,Calculation2):  \n",
    "    def Divide(self,a,b):  \n",
    "        return a/b;  \n",
    "    \n",
    "d = Derived()  \n",
    "print(d.Summation(10,20))  \n",
    "print(d.Multiplication(10,20))  \n",
    "print(d.Divide(10,20))  "
   ]
  },
  {
   "cell_type": "markdown",
   "metadata": {},
   "source": [
    "\n",
    "# Multlevel Inheritance"
   ]
  },
  {
   "cell_type": "code",
   "execution_count": null,
   "metadata": {},
   "outputs": [],
   "source": [
    "class Animal:  \n",
    "    def speak(self):  \n",
    "        print(\"Animal Speaking\")  \n",
    "        \n",
    "#The child class Dog inherits the base class Animal  \n",
    "class Dog(Animal):  \n",
    "    def bark(self):  \n",
    "        print(\"dog barking\")  \n",
    "        \n",
    "#The child class Dogchild inherits another child class Dog  \n",
    "class DogChild(Dog):  \n",
    "    def eat(self):  \n",
    "        print(\"Eating bread...\") \n",
    "        \n",
    "d = DogChild()  \n",
    "d.bark()  \n",
    "d.speak()  \n",
    "d.eat()  "
   ]
  },
  {
   "cell_type": "markdown",
   "metadata": {},
   "source": [
    "<h1> Method Overriding </h1>\n",
    "\n",
    "Method overriding is an ability of any object-oriented programming language that allows a subclass or child class \n",
    "to provide a specific implementation of a method that is already provided by one of its super-classes or parent classes.\n",
    "When a method in a subclass has the same name, same parameters or signature and same return type(or sub-type) as a method\n",
    "in its super-class, then the method in the subclass is said to override the method in the super-class."
   ]
  },
  {
   "cell_type": "code",
   "execution_count": null,
   "metadata": {},
   "outputs": [],
   "source": [
    "pip install nbconvert"
   ]
  },
  {
   "cell_type": "code",
   "execution_count": null,
   "metadata": {},
   "outputs": [],
   "source": [
    "class A:\n",
    " \n",
    "    def fun1(self):\n",
    "        print('feature_1 of class A')\n",
    "         \n",
    "    def fun2(self):\n",
    "        print('feature_2 of class A')\n",
    "\n",
    "class B(A):\n",
    "     \n",
    "    # Modified function that is\n",
    "    # already exist in class A\n",
    "    def fun1(self):\n",
    "        print('Modified feature_1 of class A by class B')   \n",
    "         \n",
    "    def fun3(self):\n",
    "        print('feature_3 of class B')\n",
    "\n",
    "# Create instance\n",
    "obj = B()\n",
    "     \n",
    "# Call the override function\n",
    "obj.fun1()"
   ]
  },
  {
   "cell_type": "code",
   "execution_count": null,
   "metadata": {},
   "outputs": [],
   "source": [
    "class Animal:  \n",
    "    def speak(self):  \n",
    "        print(\"speaking\")  \n",
    "class Dog(Animal):  \n",
    "    def speak(self):  \n",
    "        print(\"Barking\")  \n",
    "d = Dog()  \n",
    "d.speak()  "
   ]
  },
  {
   "cell_type": "code",
   "execution_count": null,
   "metadata": {},
   "outputs": [],
   "source": [
    "#Real Life Example of method overriding\n",
    "\n",
    "class Bank:  \n",
    "    def getroi(self):  \n",
    "        return 10;  \n",
    "\n",
    "class SBI(Bank):  \n",
    "    def getroi(self):  \n",
    "        return 7;  \n",
    "\n",
    "class ICICI(Bank):  \n",
    "    def getroi(self):  \n",
    "        return 8;  \n",
    "\n",
    "b1 = Bank()  \n",
    "b2 = SBI()  \n",
    "b3 = ICICI()  \n",
    "print(\"Bank Rate of interest:\",b1.getroi());  \n",
    "print(\"SBI Rate of interest:\",b2.getroi());  \n",
    "print(\"ICICI Rate of interest:\",b3.getroi());  "
   ]
  },
  {
   "cell_type": "markdown",
   "metadata": {},
   "source": [
    "## Data abstraction in python\n",
    "Abstraction is an important aspect of object-oriented programming.\n",
    "In python, we can also perform data hiding by adding the double underscore (___) as a prefix to the attribute which\n",
    "is to be hidden. After this, the attribute will not be visible outside of the class through the object."
   ]
  },
  {
   "cell_type": "code",
   "execution_count": null,
   "metadata": {},
   "outputs": [],
   "source": [
    "class Employee:  \n",
    "    __count = 0;  \n",
    "    def __init__(self):  \n",
    "        Employee.__count = Employee.__count+1  \n",
    "    def display(self):  \n",
    "        print(\"The number of employees\",Employee.__count)  \n",
    "    \n",
    "emp = Employee()  \n",
    "emp2 = Employee()  \n",
    "\n",
    "emp.display()\n",
    "emp2.__count"
   ]
  },
  {
   "cell_type": "code",
   "execution_count": null,
   "metadata": {},
   "outputs": [],
   "source": [
    "try:  \n",
    "    print(emp.__count)  \n",
    "finally:  \n",
    "    emp.display()  "
   ]
  },
  {
   "cell_type": "code",
   "execution_count": null,
   "metadata": {},
   "outputs": [],
   "source": [
    "name=\"world\"\n",
    "print(name)"
   ]
  },
  {
   "cell_type": "code",
   "execution_count": null,
   "metadata": {},
   "outputs": [],
   "source": []
  }
 ],
 "metadata": {
  "kernelspec": {
   "display_name": "Python 3",
   "language": "python",
   "name": "python3"
  },
  "language_info": {
   "codemirror_mode": {
    "name": "ipython",
    "version": 3
   },
   "file_extension": ".py",
   "mimetype": "text/x-python",
   "name": "python",
   "nbconvert_exporter": "python",
   "pygments_lexer": "ipython3",
   "version": "3.7.3"
  }
 },
 "nbformat": 4,
 "nbformat_minor": 4
}
