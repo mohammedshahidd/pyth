{
 "cells": [
  {
   "cell_type": "markdown",
   "metadata": {},
   "source": [
    " <center>PYTHON PROGRAMMING <center/> \n",
    "<img height=\"60\" width=\"120\" src=\"https://www.python.org/static/img/python-logo-large.png?1414305901\"></img>"
   ]
  },
  {
   "cell_type": "markdown",
   "metadata": {},
   "source": [
    "# Table of contents\n",
    "<br/>\n",
    "<a href = \"#12.-Operators\">12. Operators</a><br/>\n",
    "    1. Arithmetic operators\n",
    "    2. Comparison (Relational) operators\n",
    "    3. Logical (Boolean) operators\n",
    "    4. Bitwise operators\n",
    "    5. Assignment operators\n",
    "    6. Special operators\n",
    "    \n",
    "    \n",
    "<a href = \"#13.-Control-Flow\">13. Control Flow</a><br/>\n",
    "    1. if..else\n",
    "    2. while\n",
    "    3. for\n",
    "    4. break & continue"
   ]
  },
  {
   "cell_type": "markdown",
   "metadata": {},
   "source": [
    "# 12. Operators"
   ]
  },
  {
   "cell_type": "markdown",
   "metadata": {},
   "source": [
    "Operators are the constructs which can help manipulate the value of operands.<br/>\n",
    "Consider the expression 4 + 5 = 9. Here, <i><b>4 and 5</b></i> are called <i><b>operands</b></i> and <i><b>+</b></i> is called <i><b>operator</b></i>."
   ]
  },
  {
   "cell_type": "markdown",
   "metadata": {},
   "source": [
    "## Operator Types"
   ]
  },
  {
   "cell_type": "markdown",
   "metadata": {},
   "source": [
    "The different operators in Python are as below\n",
    "\n",
    "1. Arithmetic operators\n",
    "    \n",
    "2. Comparison (Relational) operators\n",
    "\n",
    "3. Logical (Boolean) operators\n",
    "\n",
    "4. Bitwise operators \n",
    "\n",
    "5. Assignment operators\n",
    "\n",
    "6. Special operators\n",
    "\n",
    "Let us discuss them one by one"
   ]
  },
  {
   "cell_type": "markdown",
   "metadata": {},
   "source": [
    "## 12.1 Arithmetic Operators"
   ]
  },
  {
   "cell_type": "markdown",
   "metadata": {},
   "source": [
    "Arithmetic operators are used to perform mathematical operations like addition, subtraction, multiplication etc."
   ]
  },
  {
   "cell_type": "markdown",
   "metadata": {},
   "source": [
    "    + , -, *, /, %, //, **  are arithmetic operators"
   ]
  },
  {
   "cell_type": "markdown",
   "metadata": {},
   "source": [
    "Example:"
   ]
  },
  {
   "cell_type": "markdown",
   "metadata": {},
   "source": [
    "# PRECEDENCE:\n",
    "    \n",
    "P – Parentheses</p>\n",
    "\n",
    "E – Exponentiation</p>\n",
    "\n",
    "M – Multiplication   (Multiplication and division have the same precedence)</p>\n",
    "\n",
    "D – Division</p>\n",
    "\n",
    "A – Addition     (Addition and subtraction have the same precedence)</p>\n",
    "\n",
    "S – Subtraction</p>"
   ]
  },
  {
   "cell_type": "code",
   "execution_count": null,
   "metadata": {},
   "outputs": [],
   "source": [
    "a, b = 50,7\n",
    "\n",
    "print(\"sum=\", a +  b)  # Addition(+)\n",
    "\n",
    "print(\"sub=\",a -  b)  # Subtraction(-)\n",
    "\n",
    "print(\"multi=\",a *  b)  # Multiplication(*)\n",
    "\n",
    "print(\"div=\" ,a /  b)  # Division(/)\n",
    "\n",
    "print(a %  b)  # Modulo division (%)\n",
    "\n",
    "print(a //  b) # Floor Division (//)\n",
    "\n",
    "print(a **  b) # Exponent (**)"
   ]
  },
  {
   "cell_type": "code",
   "execution_count": null,
   "metadata": {},
   "outputs": [],
   "source": [
    "a=10\n",
    "b=5\n",
    "\n",
    "c,d=2,4\n",
    "print(\"Addition=\",a+b-c*d)  #7\n",
    "print (\"Difference\" ,b-a+ (d/2))  #-13  -3.0\n",
    "print(\"Multiplication\", a*b+ d%c)   #50\n",
    "print(\"Division\", a/b)   #2.0 \n",
    "print(\"integer Division\", a+b+ b//a)  #15\n",
    "print(\"Exponent\", c**d)#16"
   ]
  },
  {
   "cell_type": "code",
   "execution_count": null,
   "metadata": {},
   "outputs": [],
   "source": [
    "A=10\n",
    "B=20\n",
    "\n",
    "A,B=B,A\n",
    "print(\"After swapping\")\n",
    "print(\"A=\",A)\n",
    "print(\"B=\",B)\n",
    "\n",
    "#A=10\n",
    "#B=20\n",
    "#temp=A\n",
    "#A=B\n",
    "#B=temp\n",
    "\n",
    "#print(\"A & B\",A,B)\n",
    "\n",
    "\n",
    "\n"
   ]
  },
  {
   "cell_type": "markdown",
   "metadata": {},
   "source": [
    "## 12.2 Comparision Operators"
   ]
  },
  {
   "cell_type": "markdown",
   "metadata": {},
   "source": [
    "Comparison operators are used to compare values. It either returns True or False according to the condition."
   ]
  },
  {
   "cell_type": "markdown",
   "metadata": {},
   "source": [
    "    >, <, ==, !=, >=, <= are comparision operators"
   ]
  },
  {
   "cell_type": "code",
   "execution_count": null,
   "metadata": {},
   "outputs": [],
   "source": [
    "a,b =15, 5\n",
    "\n",
    "print(a < b)  # Check if value1 is less than value2\n",
    "\n",
    "print(a > b)  # Check if value1 is greater than value2\n",
    "\n",
    "print(a == b)  # Check if value1 is equal to value2\n",
    "\n",
    "print(a != b)  # Check if value1 is not equal value2\n",
    "\n",
    "print(a >= b)  # Check if value1 is greater than or equal to value2\n",
    "\n",
    "print(a <= b)  # Check if value1 is less than or equal to value2\n",
    "\n"
   ]
  },
  {
   "cell_type": "markdown",
   "metadata": {},
   "source": [
    "## 12.3 Logical Operators"
   ]
  },
  {
   "cell_type": "markdown",
   "metadata": {},
   "source": [
    "Logical operators are  **and, or, not** operators."
   ]
  },
  {
   "cell_type": "code",
   "execution_count": null,
   "metadata": {},
   "outputs": [],
   "source": [
    "A=0  #1\n",
    "\n",
    "B=1    #0\n",
    "\n",
    "print(A and B)\n",
    "\n",
    "\n",
    "print(A or B)\n",
    "\n",
    "\n",
    "print(not A)"
   ]
  },
  {
   "cell_type": "code",
   "execution_count": null,
   "metadata": {},
   "outputs": [],
   "source": [
    "data1, data2 = True, False\n",
    "\n",
    "print(data1 and data2)  # Print data1 and data2\n",
    "\n",
    "# 0 0 0\n",
    "# 0 1 0\n",
    "# 1 0 0\n",
    "# 1 1 1\n",
    "\n",
    "print(data1 or data2)  # Print data1 or data2\n",
    "\n",
    "# 0 0 0\n",
    "# 0 1 1\n",
    "# 1 0 1\n",
    "# 1 1 1\n",
    "\n",
    "print(not data2)           # Print not data2\n"
   ]
  },
  {
   "cell_type": "markdown",
   "metadata": {},
   "source": [
    "## 12.4 Bitwise operators"
   ]
  },
  {
   "cell_type": "markdown",
   "metadata": {},
   "source": [
    "Bitwise operators act on operands as if they were string of binary digits. It operates bit by bit.\n",
    "\n",
    "- Bitwise operators:    $&,  |,  ~,  ^,  >>,  <<$\n",
    "\n",
    "**Note:** This part can be skipped as it is not necessary for data science learning."
   ]
  },
  {
   "cell_type": "code",
   "execution_count": null,
   "metadata": {},
   "outputs": [],
   "source": [
    "variable1, variable2 = 3, 7            # Decimal to bitwise values -> 3 - 0000 0011 & 7 - 0000 0111\n",
    "\n",
    "print(variable1 & variable2) #2          # Bitwise AND ->       0000 0011 & 0000 0111 -> 0000 0011 -> 3\n",
    "\n",
    "print(variable1 | variable2)  #8        # Bitwise OR ->        0000 0011 | 0000 0111 -> 0000 0111 -> 7\n",
    "\n",
    "print(~variable2)  #1                    # Bitwise NOT ->     ~ 0000 0111 -> 1111 1000 -> -8\n",
    "\n",
    "print(variable1 ^ variable2)   #5        # Bitwise XOR ->       0000 0011 ^ 0000 0111 -> 0000 0100 -> 4\n",
    "\n",
    "print(variable1>>2)                    # Bitwise rightshift   0000 0011>>2 -> 0000 0000 -> 0\n",
    "\n",
    "print(variable1<<2)                    # Bitwise Leftshift    0000 0011<<2 -> 0000 1100 -> 12\n",
    "\n"
   ]
  },
  {
   "cell_type": "code",
   "execution_count": null,
   "metadata": {},
   "outputs": [],
   "source": [
    "P = int( input(\"Please enter value for P: \"))  \n",
    "Q = int( input(\"Please enter value for Q: \"))  \n",
    "   \n",
    "# To Swap the values of two variables using XOR  \n",
    "P = P ^ Q  \n",
    "Q = P ^ Q  \n",
    "P = P ^ Q  \n",
    "   \n",
    "print (\"The Value of P after swapping: \", P)  \n",
    "print (\"The Value of Q after swapping: \", Q)"
   ]
  },
  {
   "cell_type": "markdown",
   "metadata": {},
   "source": [
    "## 12.5 Assignment operators"
   ]
  },
  {
   "cell_type": "markdown",
   "metadata": {},
   "source": [
    "<u>Assignment operators</u> are used in Python to <i><b>assign values to variables</b></i>.\n",
    "\n",
    "age = 50 is a simple assignment operator that assigns the value 50 on the right to the variable (age) a on the left."
   ]
  },
  {
   "cell_type": "markdown",
   "metadata": {},
   "source": [
    "    =,  +=,  -=,  *=,  /=,  %=,  //=,  **=, &=,  |=,  ^=,  >>=,  <<= are Assignment operators"
   ]
  },
  {
   "cell_type": "code",
   "execution_count": null,
   "metadata": {},
   "outputs": [],
   "source": [
    "age = 40\n",
    "\n",
    "age += 4        # Add AND  <- age = age + 4\n",
    "print(age)\n",
    "\n",
    "age -= 7        # Subtract AND (-=)\n",
    "print(age)\n",
    "\n",
    "age *= 4        # Multiply AND (*=)\n",
    "print(age)\n",
    "\n",
    "age /= 4        # Divide AND (/=)\n",
    "print(age)\n",
    "\n",
    "age %= 20       # Modulus AND (%=)\n",
    "print(age)\n",
    "\n",
    "age //= 4       # Floor Division (//=)\n",
    "print(age)\n",
    "\n",
    "age **= 4       # Exponent AND (**=)\n",
    "print(age)"
   ]
  },
  {
   "cell_type": "code",
   "execution_count": null,
   "metadata": {},
   "outputs": [],
   "source": []
  },
  {
   "cell_type": "markdown",
   "metadata": {},
   "source": [
    "## 12.6 Special Operators"
   ]
  },
  {
   "cell_type": "markdown",
   "metadata": {},
   "source": [
    "### 12.6.1 Identity Operators"
   ]
  },
  {
   "cell_type": "markdown",
   "metadata": {},
   "source": [
    "**is and is not** are the <u>identity operators</u> in Python. \n",
    "\n",
    "They are used to verify if two values (or variables) are located in the same part of the memory."
   ]
  },
  {
   "cell_type": "code",
   "execution_count": null,
   "metadata": {},
   "outputs": [],
   "source": [
    "value1 = 50\n",
    "value2 = 50\n",
    "print(value1 is value2) # 50 is created once & both value1 and value2 points to same object\n",
    "\n",
    "print(id(value1))\n",
    "print(id(value2))\n",
    "\n",
    "#check is not\n",
    "print(value1 is not value2)"
   ]
  },
  {
   "cell_type": "code",
   "execution_count": null,
   "metadata": {},
   "outputs": [],
   "source": [
    "A = [1,2,3]\n",
    "B = [1,2,3]\n",
    "\n",
    "print(id(A))\n",
    "print(id(B))\n",
    "\n",
    "\n",
    "print(A is B)"
   ]
  },
  {
   "cell_type": "code",
   "execution_count": null,
   "metadata": {},
   "outputs": [],
   "source": [
    "A = [1,2,3]\n",
    "print(id(A))\n",
    "print(A)\n",
    "\n",
    "B = [1,2,3]\n",
    "print(id(B))\n",
    "print(B)\n",
    "print(A is B)"
   ]
  },
  {
   "cell_type": "code",
   "execution_count": null,
   "metadata": {},
   "outputs": [],
   "source": [
    "print(A is B)"
   ]
  },
  {
   "cell_type": "code",
   "execution_count": null,
   "metadata": {},
   "outputs": [],
   "source": [
    "mylist1=[10,20]\n",
    "mylist2=[1,2,mylist1,(33,44)]\n",
    "\n",
    "print(mylist1 is mylist2)"
   ]
  },
  {
   "cell_type": "code",
   "execution_count": null,
   "metadata": {},
   "outputs": [],
   "source": [
    "myString1 = \"zetacoding\"\n",
    "myString2 = \"zetacoding\"\n",
    "print(myString1 is not myString2)\n",
    "\n",
    "print(myString1 is myString2)"
   ]
  },
  {
   "cell_type": "markdown",
   "metadata": {},
   "source": [
    "### 12.6.2 MemberShip Operators"
   ]
  },
  {
   "cell_type": "markdown",
   "metadata": {},
   "source": [
    "**in and not in** are the membership operators in Python. \n",
    "    \n",
    "They are used to test whether a value or variable is found in a sequence (string, list, tuple, set and   dictionary)."
   ]
  },
  {
   "cell_type": "code",
   "execution_count": null,
   "metadata": {},
   "outputs": [],
   "source": [
    "myList = ['a', 22, 'b', 100]\n",
    "print(22 in myList) \n",
    "# Check if 22 is present in the given list or not\n",
    "\n",
    "print('b' not in myList)                 # Check if 'b' is present in the given list\n",
    "print('b' in myList)"
   ]
  },
  {
   "cell_type": "code",
   "execution_count": null,
   "metadata": {},
   "outputs": [],
   "source": [
    "myDictionary = {125 : 'Apple', 200 : 'Banana'}  # created my dictionary here\n",
    "print(125 in myDictionary)     \n",
    "print(33 in myDictionary)\n"
   ]
  },
  {
   "cell_type": "code",
   "execution_count": null,
   "metadata": {},
   "outputs": [],
   "source": [
    "print(Banana in myDictionary)\n",
    "\n"
   ]
  },
  {
   "cell_type": "code",
   "execution_count": null,
   "metadata": {},
   "outputs": [],
   "source": [
    "print(125 in myDictionary) "
   ]
  },
  {
   "cell_type": "code",
   "execution_count": null,
   "metadata": {},
   "outputs": [],
   "source": [
    "A=[1,3,\"hi\",8.9]\n",
    "print(A)\n",
    "print(type(A))\n",
    "\n",
    "\n",
    "B=(1,2,3,\"python\",88.77)\n",
    "print(B)\n",
    "print(type(B))\n",
    "\n",
    "C={1,2,3,\"how r u\",7.7}\n",
    "print(C)\n",
    "print(type(C))\n",
    "\n",
    "D={12:12321,\"name\":\"virat\"}\n",
    "print(D)\n",
    "print(type(D))\n"
   ]
  },
  {
   "cell_type": "markdown",
   "metadata": {},
   "source": [
    "# 13. Control Flow"
   ]
  },
  {
   "cell_type": "markdown",
   "metadata": {},
   "source": [
    "## 13.1 Python if - else Statement\n",
    "\n",
    "If - else statements are used for **decision making**, let us see a simple examle,\n",
    "\n",
    "if 'It rains':<br/>\n",
    "&nbsp;&nbsp;&nbsp;&nbsp;'Dont play golf'<br/>\n",
    "else: <br/>\n",
    "&nbsp;&nbsp;&nbsp;&nbsp;if 'It is too hot':<br/>\n",
    "&nbsp;&nbsp;&nbsp;&nbsp;&nbsp;&nbsp;&nbsp;&nbsp;'Dont play golf'<br/>\n",
    "&nbsp;&nbsp;&nbsp;&nbsp;else:<br/>\n",
    "&nbsp;&nbsp;&nbsp;&nbsp;&nbsp;&nbsp;&nbsp;&nbsp;'Play golf'<br/>\n",
    "\n",
    "---\n",
    "**else if** can be combined to form **elif**\n",
    "\n",
    "if 'It rains':<br/>\n",
    "&nbsp;&nbsp;&nbsp;&nbsp;'Dont play golf'<br/>\n",
    "elif 'It is too hot':<br/>\n",
    "&nbsp;&nbsp;&nbsp;&nbsp;'Dont play golf'<br/>\n",
    "else:<br/>\n",
    "&nbsp;&nbsp;&nbsp;&nbsp;'Play golf'<br/>\n",
    "\n",
    "---"
   ]
  },
  {
   "cell_type": "markdown",
   "metadata": {},
   "source": [
    "### 13.1.1 Let us see the Python Syntax for if statement<br/><br/>\n",
    "\n",
    "    if test expression:\n",
    "        statement(s)\n",
    "---    \n",
    "<br/><br/>\n",
    "The program evaluates the test expression and will execute statement(s) only if the text expression is True.\n",
    "\n",
    "If the text expression is False, the statement(s) is not executed.\n",
    "\n",
    "Python interprets non-zero values as True. None and 0 are interpreted as False.\n",
    "\n",
    "---"
   ]
  },
  {
   "cell_type": "markdown",
   "metadata": {},
   "source": [
    "#### Examples of if-statement"
   ]
  },
  {
   "cell_type": "code",
   "execution_count": 1,
   "metadata": {},
   "outputs": [
    {
     "name": "stdout",
     "output_type": "stream",
     "text": [
      "Program Started....\n",
      "Outside if block\n",
      "Ended....\n"
     ]
    }
   ],
   "source": [
    "print(\"Program Started....\")\n",
    "number = 20\n",
    "if number==15:\n",
    "    print('Number is equal')\n",
    "print('Outside if block')\n",
    "\n",
    "print(\"Ended....\")"
   ]
  },
  {
   "cell_type": "code",
   "execution_count": 15,
   "metadata": {},
   "outputs": [],
   "source": [
    "a = 30\n",
    "b = 100\n",
    "\n",
    "if b > a:\n",
    "  pass"
   ]
  },
  {
   "cell_type": "code",
   "execution_count": 2,
   "metadata": {},
   "outputs": [
    {
     "name": "stdout",
     "output_type": "stream",
     "text": [
      "Start\n",
      "Inside if\n",
      "Outside if\n",
      "False\n",
      "Ended\n"
     ]
    }
   ],
   "source": [
    "\n",
    "\n",
    "print(\"Start\")\n",
    "if -100:\n",
    "    print(\"Inside if\")\n",
    "print(\"Outside if\")                #This print statement always print\n",
    "# What is the idea behind the above\n",
    "val = 0                # try 0, -1 and None\n",
    "print(bool(val))\n",
    "print(\"Ended\")"
   ]
  },
  {
   "cell_type": "markdown",
   "metadata": {},
   "source": [
    "---\n",
    "\n",
    "### 13.1.2 Python if...else - Statement\n",
    "\n",
    "Syntax of if ... else statement is as follows\n",
    "\n",
    "    if test expression:\n",
    "    \n",
    "        Body of if\n",
    "\n",
    "    else: \n",
    "    \n",
    "        Body of else"
   ]
  },
  {
   "cell_type": "markdown",
   "metadata": {},
   "source": [
    "#### Examples of if...else-statement"
   ]
  },
  {
   "cell_type": "code",
   "execution_count": 3,
   "metadata": {},
   "outputs": [
    {
     "name": "stdout",
     "output_type": "stream",
     "text": [
      "Program Started....\n",
      "Child\n",
      "Ended....\n"
     ]
    }
   ],
   "source": [
    "print(\"Program Started....\")\n",
    "age = 7  #age of an person\n",
    "if age > 18:\n",
    "    print('Adult')\n",
    "else:\n",
    "    print('Child')\n",
    "\n",
    "print(\"Ended....\")\n",
    "    \n"
   ]
  },
  {
   "cell_type": "markdown",
   "metadata": {},
   "source": [
    "---\n",
    "\n",
    "### 13.1.3 if..elif..else Statement"
   ]
  },
  {
   "cell_type": "markdown",
   "metadata": {},
   "source": [
    "The syntax for **if..elif..else** Statement is as follows\n",
    "\n",
    "\n",
    "    if test expression:\n",
    "\n",
    "        Body of if\n",
    "    elif test expression:\n",
    "    \n",
    "        Body of elif\n",
    "    else: \n",
    "    \n",
    "        Body of else"
   ]
  },
  {
   "cell_type": "code",
   "execution_count": 4,
   "metadata": {},
   "outputs": [
    {
     "name": "stdout",
     "output_type": "stream",
     "text": [
      "a and b are equal\n"
     ]
    }
   ],
   "source": [
    "a = 33\n",
    "b = 33\n",
    "if b > a:\n",
    "  print(\"b is greater than a\")\n",
    "elif a == b:\n",
    "  print(\"a and b are equal\")\n",
    "else:\n",
    "  print(\"a is greater than b\")"
   ]
  },
  {
   "cell_type": "markdown",
   "metadata": {},
   "source": [
    "# Short Hand If ... Else"
   ]
  },
  {
   "cell_type": "code",
   "execution_count": 5,
   "metadata": {},
   "outputs": [
    {
     "name": "stdout",
     "output_type": "stream",
     "text": [
      "b is greater\n"
     ]
    }
   ],
   "source": [
    "a,b= 20,40\n",
    "print(\"A is greater\") if a > b else print(\"b is greater\")"
   ]
  },
  {
   "cell_type": "code",
   "execution_count": 6,
   "metadata": {},
   "outputs": [
    {
     "name": "stdout",
     "output_type": "stream",
     "text": [
      " a and b are equal\n"
     ]
    }
   ],
   "source": [
    "a = 20\n",
    "b = 20\n",
    "print(\"A is greater\") if a > b else print(\" a and b are equal\") if a == b else print(\"b is greater\")"
   ]
  },
  {
   "cell_type": "code",
   "execution_count": 7,
   "metadata": {},
   "outputs": [
    {
     "name": "stdout",
     "output_type": "stream",
     "text": [
      "Both conditions are True\n",
      "At least one of the conditions is True\n"
     ]
    }
   ],
   "source": [
    "a = 200\n",
    "b = 33\n",
    "c = 500\n",
    "if a > b and c > a:\n",
    "  print(\"Both conditions are True\")\n",
    "if a > b or a > c:\n",
    "  print(\"At least one of the conditions is True\")"
   ]
  },
  {
   "cell_type": "code",
   "execution_count": 10,
   "metadata": {},
   "outputs": [
    {
     "name": "stdout",
     "output_type": "stream",
     "text": [
      "Started...\n",
      "Teen\n",
      "Ended...\n"
     ]
    }
   ],
   "source": [
    "print(\"Started...\")\n",
    "age = 15\n",
    "\n",
    "if age > 20:\n",
    "    print('Adult')\n",
    "elif age > 12:\n",
    "    print('Teen')\n",
    "elif age > 12:\n",
    "    print('Teens')\n",
    "else:\n",
    "    print('Child')\n",
    "print(\"Ended...\")"
   ]
  },
  {
   "cell_type": "markdown",
   "metadata": {},
   "source": [
    "---\n",
    "\n",
    "### 13.1.4 Nested if Statements"
   ]
  },
  {
   "cell_type": "markdown",
   "metadata": {},
   "source": [
    "We can have a if...elif...else statement inside another if...elif...else statement. This is called nesting in computer programming.\n",
    "\n",
    "Any number of these statements can be nested inside one another. Indentation is the only way to figure out the level of nesting. This can get confusing, so must be avoided if we can."
   ]
  },
  {
   "cell_type": "markdown",
   "metadata": {},
   "source": [
    "#### Example of <b>Nested if</b> statements"
   ]
  },
  {
   "cell_type": "code",
   "execution_count": 11,
   "metadata": {},
   "outputs": [
    {
     "name": "stdout",
     "output_type": "stream",
     "text": [
      "Adult\n",
      "This will always get executed\n"
     ]
    }
   ],
   "source": [
    "age = 22\n",
    "\n",
    "if age >=13:\n",
    "    if age <=20:\n",
    "        print('Teen')\n",
    "    else:\n",
    "        print('Adult')\n",
    "else:\n",
    "    print('Child')\n",
    "           \n",
    "print('This will always get executed')"
   ]
  },
  {
   "cell_type": "markdown",
   "metadata": {},
   "source": [
    "Combining **Operators** in if-statements"
   ]
  },
  {
   "cell_type": "code",
   "execution_count": 13,
   "metadata": {},
   "outputs": [
    {
     "name": "stdout",
     "output_type": "stream",
     "text": [
      "i is 20\n"
     ]
    }
   ],
   "source": [
    "i = 20\n",
    "if (i == 10):\n",
    "    print(\"i is 10\")\n",
    "elif (i == 15):\n",
    "    print(\"i is 15\")\n",
    "elif (i == 17):\n",
    "    print(\"i is 17\")\n",
    "elif (i == 19):\n",
    "    print(\"i is 19\")\n",
    "elif (i == 20):\n",
    "    print(\"i is 20\")\n",
    "else:\n",
    "    print(\"i is not present\")"
   ]
  },
  {
   "cell_type": "code",
   "execution_count": null,
   "metadata": {},
   "outputs": [],
   "source": [
    "0  0  =  0\n",
    "0  1  =  0\n",
    "1  0  =  0\n",
    "1  1  =  1\n",
    "\n",
    "or\n",
    "\n",
    "0 0 =0\n",
    "0 1 =1\n",
    "1 0 =1\n",
    "1 1= 1"
   ]
  },
  {
   "cell_type": "markdown",
   "metadata": {},
   "source": [
    "---\n",
    "\n",
    "# 13.2 <u>while</u> loop in Python"
   ]
  },
  {
   "cell_type": "markdown",
   "metadata": {},
   "source": [
    "## 13.2.1 while loop\n",
    "\n",
    "Use while loop to iterate over a block of code as long as the test expression (also called test condition) is true.\n",
    "\n",
    "#### Syntax\n",
    "\n",
    "    while test_expression:\n",
    "        \n",
    "        Body of while\n",
    "\n",
    "\n",
    "The body of the loop is entered only if the test_expression evaluates to True. \n",
    "\n",
    "After one iteration, the test expression is checked again. \n",
    "\n",
    "This process continues until the test_expression evaluates to False.\n"
   ]
  },
  {
   "cell_type": "markdown",
   "metadata": {},
   "source": [
    "#### Flowchart of <u>while</u> loop\n",
    "\n",
    "<img height=\"200\" width=\"400\" src=\"https://github.com/suchitmajumdar/LearnPython/blob/master/images/while_0.png?raw=true\"></img>\n"
   ]
  },
  {
   "cell_type": "markdown",
   "metadata": {},
   "source": [
    "#### Examples of while Loop with else statement\n",
    "\n",
    "While loop has an optional <b>else</b> block which one may use if one wishes to use it.<br/>\n",
    "The else block gets executed when the condition in while statement is <b>False</b>.<br/>\n",
    "\n",
    "The <b>else</b> can be skipped if we use a <b>break</b> command in the while block"
   ]
  },
  {
   "cell_type": "markdown",
   "metadata": {},
   "source": [
    "#### Examples of while loop"
   ]
  },
  {
   "cell_type": "code",
   "execution_count": 17,
   "metadata": {},
   "outputs": [
    {
     "name": "stdout",
     "output_type": "stream",
     "text": [
      "1\n",
      "2\n",
      "3\n",
      "4\n",
      "5\n"
     ]
    }
   ],
   "source": [
    "i = 1\n",
    "while i < 6:\n",
    "  print(i)\n",
    "  i += 1"
   ]
  },
  {
   "cell_type": "code",
   "execution_count": 18,
   "metadata": {},
   "outputs": [
    {
     "name": "stdout",
     "output_type": "stream",
     "text": [
      "1\n",
      "2\n",
      "3\n"
     ]
    }
   ],
   "source": [
    "i = 1\n",
    "while i < 6:\n",
    "  print(i)\n",
    "  if i == 3:\n",
    "    break\n",
    "  i += 1"
   ]
  },
  {
   "cell_type": "code",
   "execution_count": 20,
   "metadata": {},
   "outputs": [
    {
     "name": "stdout",
     "output_type": "stream",
     "text": [
      "1\n",
      "2\n",
      "4\n",
      "5\n",
      "6\n"
     ]
    }
   ],
   "source": [
    "i = 0\n",
    "while i < 6:\n",
    "  i += 1\n",
    "  if i == 3:\n",
    "    continue\n",
    "  print(i)"
   ]
  },
  {
   "cell_type": "code",
   "execution_count": 21,
   "metadata": {},
   "outputs": [
    {
     "name": "stdout",
     "output_type": "stream",
     "text": [
      "1\n",
      "2\n",
      "3\n",
      "4\n",
      "5\n",
      "i is no longer less than 6\n"
     ]
    }
   ],
   "source": [
    "i = 1\n",
    "while i < 6:\n",
    "  print(i)\n",
    "  i += 1\n",
    "else:\n",
    "  print(\"i is no longer less than 6\")"
   ]
  },
  {
   "cell_type": "code",
   "execution_count": 22,
   "metadata": {},
   "outputs": [
    {
     "name": "stdout",
     "output_type": "stream",
     "text": [
      "4\n",
      "3\n",
      "2\n",
      "1\n"
     ]
    }
   ],
   "source": [
    "\n",
    "# checks if list still\n",
    "# contains any element\n",
    "a = [1, 2, 3, 4]\n",
    "  \n",
    "while a:\n",
    "    print(a.pop())"
   ]
  },
  {
   "cell_type": "code",
   "execution_count": 25,
   "metadata": {},
   "outputs": [
    {
     "name": "stdout",
     "output_type": "stream",
     "text": [
      "Current Letter : p\n",
      "Current Letter : r\n",
      "Current Letter : o\n",
      "Current Letter : g\n",
      "Current Letter : r\n",
      "Current Letter : a\n",
      "Current Letter : i\n",
      "Current Letter : n\n",
      "Current Letter : g\n"
     ]
    }
   ],
   "source": [
    "i = 0\n",
    "a = 'programmings'\n",
    "  \n",
    "while i < len(a):\n",
    "    if a[i] == 'm' or a[i] == 's':\n",
    "        i += 1\n",
    "        continue\n",
    "          \n",
    "    print('Current Letter :', a[i])\n",
    "    i += 1"
   ]
  },
  {
   "cell_type": "code",
   "execution_count": 26,
   "metadata": {},
   "outputs": [
    {
     "name": "stdout",
     "output_type": "stream",
     "text": [
      "Current Letter : p\n",
      "Current Letter : r\n",
      "Current Letter : o\n",
      "Current Letter : g\n",
      "Current Letter : r\n",
      "Current Letter : a\n"
     ]
    }
   ],
   "source": [
    "i = 0\n",
    "a = 'programmings'\n",
    "  \n",
    "while i < len(a):\n",
    "    if a[i] == 'm' or a[i] == 's':\n",
    "        i += 1\n",
    "        break\n",
    "          \n",
    "    print('Current Letter :', a[i])\n",
    "    i += 1"
   ]
  },
  {
   "cell_type": "code",
   "execution_count": 27,
   "metadata": {},
   "outputs": [
    {
     "name": "stdout",
     "output_type": "stream",
     "text": [
      "Value of i : 12\n"
     ]
    }
   ],
   "source": [
    "a = 'programmings'\n",
    "i = 0\n",
    "  \n",
    "while i < len(a):\n",
    "    i += 1\n",
    "    pass\n",
    "    \n",
    "print('Value of i :', i)"
   ]
  },
  {
   "cell_type": "code",
   "execution_count": 16,
   "metadata": {},
   "outputs": [
    {
     "name": "stdout",
     "output_type": "stream",
     "text": [
      "Hello Boys\n",
      "Hello Girls\n",
      "Hello Boys\n",
      "Hello Girls\n",
      "Hello Boys\n",
      "Hello Girls\n",
      "Hello All\n"
     ]
    }
   ],
   "source": [
    "count = 0\n",
    "while (count < 3):\n",
    "    count = count + 1\n",
    "    print(\"Hello Boys\")\n",
    "    print(\"Hello Girls\")\n",
    "print(\"Hello All\")  "
   ]
  },
  {
   "cell_type": "code",
   "execution_count": null,
   "metadata": {},
   "outputs": [],
   "source": []
  },
  {
   "cell_type": "code",
   "execution_count": null,
   "metadata": {},
   "outputs": [],
   "source": [
    "b = [10, 20, 30, 40,50]\n",
    "  \n",
    "while b:\n",
    "    print(b.pop())\n",
    "    print()\n",
    "    print()"
   ]
  },
  {
   "cell_type": "code",
   "execution_count": null,
   "metadata": {},
   "outputs": [],
   "source": [
    "i = 1\n",
    "while i < 6:\n",
    "  print(i)\n",
    "  if i == 3:\n",
    "    break\n",
    "  i += 1"
   ]
  },
  {
   "cell_type": "code",
   "execution_count": null,
   "metadata": {},
   "outputs": [],
   "source": [
    "i = 0\n",
    "while i < 6:\n",
    "  i += 1\n",
    "  if i == 3:\n",
    "    continue\n",
    "  print(i)"
   ]
  },
  {
   "cell_type": "markdown",
   "metadata": {},
   "source": [
    "# Single statement while block"
   ]
  },
  {
   "cell_type": "code",
   "execution_count": null,
   "metadata": {},
   "outputs": [],
   "source": [
    "count = 0\n",
    "while (count < 7): count += 1; print(\"Hello All\")"
   ]
  },
  {
   "cell_type": "code",
   "execution_count": null,
   "metadata": {},
   "outputs": [],
   "source": [
    "\n",
    "a = int(input('Enter a number (-1 to quit): '))\n",
    "  \n",
    "while a != -1:\n",
    "    a = int(input('Enter a number (-1 to quit): '))"
   ]
  },
  {
   "cell_type": "code",
   "execution_count": null,
   "metadata": {},
   "outputs": [],
   "source": [
    "num = 25        \n",
    "counter = 1   \n",
    "# we will use a while loop for iterating 10 times for the multiplication table        \n",
    "print(\"The Multiplication Table of: \", num)      \n",
    "while counter <= 25: # specifying the condition  \n",
    "    ans = num * counter      \n",
    "    print (num, 'x', counter, '=', ans)      \n",
    "    counter += 1 # expression to increment the counter  "
   ]
  },
  {
   "cell_type": "code",
   "execution_count": null,
   "metadata": {},
   "outputs": [],
   "source": [
    "# Find the sum of all numbers in a list\n",
    "\n",
    "myList = [1, 2, 3, 4, 5]\n",
    "\n",
    "sum = 0\n",
    "i = 0\n",
    "\n",
    "while i < len(myList):\n",
    "    sum += myList[i]                      # sum = sum + myList[index]\n",
    "    i += 1                                # index = index + 1\n",
    "print('Sum of the elements are: {}'.format(sum))"
   ]
  },
  {
   "cell_type": "markdown",
   "metadata": {},
   "source": [
    "#### Example: Calculate the factorial of a number"
   ]
  },
  {
   "cell_type": "code",
   "execution_count": null,
   "metadata": {},
   "outputs": [],
   "source": [
    "userInput = input(\"Enter a positive non-zero number: \")\n",
    "number = int(userInput)\n",
    "\n",
    "if number <= 0:\n",
    "   print('Invalid number please re-enter')\n",
    "   userInput = input(\"Enter a positive non-zero number: \")\n",
    "   number = int(userInput)\n",
    "    \n",
    "else:\n",
    "    print('else block is executed')\n",
    "\n",
    "fact = 1\n",
    "if number > 0:\n",
    "    while number > 0:\n",
    "        fact *= number                                      # fact = fact * number\n",
    "        number -= 1                                         # number = number -1\n",
    "    print('The factorial of the number is: ', fact)\n",
    "        "
   ]
  },
  {
   "cell_type": "markdown",
   "metadata": {},
   "source": [
    "---\n",
    "\n",
    "# 13.3 <u>for</u> Loop Python  "
   ]
  },
  {
   "cell_type": "markdown",
   "metadata": {},
   "source": [
    "<b>for</b> loop in one of the most often used Python looping technque to iterate over a sequence (list, tuple, string) or other iterable objects. \n",
    "    \n",
    "Iterating over a sequence is called traversal.\n",
    "\n",
    "#### Syntax:\n",
    "\n",
    "    for element in sequence :\n",
    "\n",
    "        'for' code block  \n",
    "        \n",
    "\n",
    "Here, element is the variable that takes the value of the item inside the sequence on each iteration.\n",
    "\n",
    "Loop continues until we reach the last item in the sequence. "
   ]
  },
  {
   "cell_type": "code",
   "execution_count": null,
   "metadata": {},
   "outputs": [],
   "source": [
    "fish = [\"Shark\", \"Whale\", \"Tuna\"]\n",
    "for x in fish:\n",
    "                                                                    print(x)\n",
    "                                                                    print(x)"
   ]
  },
  {
   "cell_type": "code",
   "execution_count": null,
   "metadata": {},
   "outputs": [],
   "source": [
    "for x in \"Shark\":\n",
    "  print(x)"
   ]
  },
  {
   "cell_type": "code",
   "execution_count": null,
   "metadata": {},
   "outputs": [],
   "source": [
    "for x in range(5):\n",
    "      print(x)\n",
    "else:\n",
    "  print(\"Finally finished!\")"
   ]
  },
  {
   "cell_type": "code",
   "execution_count": null,
   "metadata": {},
   "outputs": [],
   "source": [
    "for x in range(6):\n",
    "  if x == 3: break\n",
    "  print(x)\n",
    "else:\n",
    "      print(\"Finally finished!\")"
   ]
  },
  {
   "cell_type": "code",
   "execution_count": null,
   "metadata": {},
   "outputs": [],
   "source": [
    "adj = [\"red\", \"tasty\", \"small\"]\n",
    "fruits = [\"apple\", \"banana\", \"cherry\"]\n",
    "\n",
    "for x in adj:\n",
    "  for y in fruits:\n",
    "    print(x, y)"
   ]
  },
  {
   "cell_type": "code",
   "execution_count": null,
   "metadata": {},
   "outputs": [],
   "source": [
    "# Sum of all numbers in a list\n",
    "\n",
    "a = [1, 2, 3, 4, 5]\n",
    "\n",
    "sum = 0\n",
    "#iterating over the list\n",
    "for element in a:\n",
    "    sum += element\n",
    "    \n",
    "print(\"Sum of the aray is: {}\".format(sum))"
   ]
  },
  {
   "cell_type": "code",
   "execution_count": null,
   "metadata": {},
   "outputs": [],
   "source": [
    "print(\"String Iteration\")\n",
    "s = \"EAST WEST COLLEGE\"\n",
    "for i in s:\n",
    "    print(i)"
   ]
  },
  {
   "cell_type": "markdown",
   "metadata": {},
   "source": [
    "\n",
    "#### range() function\n",
    "\n",
    "Often we need to run a for loop on a range of values that could be based on a starting point to an ending point with pre-specified step size.\n",
    "\n",
    "##### range(start,stop,step size)\n",
    "\n",
    "The numbers in range are not stored but calculated dynamically on the fly using the 3 parameters start,stop, step size"
   ]
  },
  {
   "cell_type": "code",
   "execution_count": null,
   "metadata": {},
   "outputs": [],
   "source": [
    "# Print range of 5\n",
    "for element in range(20):\n",
    "    \n",
    "    print(element)"
   ]
  },
  {
   "cell_type": "code",
   "execution_count": null,
   "metadata": {},
   "outputs": [],
   "source": [
    "# Print range numbers from 0 to 20 but with step size of 3\n",
    "for element in range(1,20,2):\n",
    "    print(element)"
   ]
  },
  {
   "cell_type": "code",
   "execution_count": null,
   "metadata": {},
   "outputs": [],
   "source": [
    "myList = [1, 2, 3, 4, \"rohit\"]\n",
    "\n",
    "# Iterate over myList using index\n",
    "#for index in range(len(myList)):\n",
    "#    print(myList[index])\n",
    "\n",
    "for element in range(len(myList)):\n",
    "    print(myList[element])\n",
    "    #print(element)"
   ]
  },
  {
   "cell_type": "markdown",
   "metadata": {},
   "source": [
    "#### for loop with else\n",
    "\n",
    "Similar to while loop, a for loop can have an optional else block. <br/>\n",
    "The else part is executed if the items in the sequence used in for loop exhausts.\n",
    "\n",
    "for loop's else part runs if no break occurs."
   ]
  },
  {
   "cell_type": "code",
   "execution_count": null,
   "metadata": {},
   "outputs": [],
   "source": [
    "names = ['Dhoni', 'Virat', 'Rohit']\n",
    "\n",
    "#iterating over the list\n",
    "for name in names:\n",
    "    print(name)\n",
    "else:\n",
    "    print(\"Rahul is the future Captain\")"
   ]
  },
  {
   "cell_type": "code",
   "execution_count": null,
   "metadata": {},
   "outputs": [],
   "source": [
    "# Let us use the break keyword\n",
    "\n",
    "for name in names:\n",
    "    print(name)\n",
    "    if name == 'Mohit':\n",
    "        break    \n",
    "    else:\n",
    "        print(\"Completed the names list\")\n",
    "\n",
    "print('Totally outside the for else block')"
   ]
  },
  {
   "cell_type": "markdown",
   "metadata": {},
   "source": [
    "#### Example: Program to calculate the divisors of number"
   ]
  },
  {
   "cell_type": "code",
   "execution_count": null,
   "metadata": {},
   "outputs": [],
   "source": [
    "inputNumber = input(\"Please enter a positive number: \")\n",
    "number = int(inputNumber)\n",
    "listOfDivisors = [1]\n",
    "\n",
    "for divisor in range(2,int(number/2)+1):               # divisor -> 2.3.4.5.6.7.8....... int(num/2) + 1\n",
    "    if(number%divisor == 0):\n",
    "        listOfDivisors.append(divisor)\n",
    "else:\n",
    "    print(listOfDivisors)"
   ]
  },
  {
   "cell_type": "markdown",
   "metadata": {},
   "source": [
    "---\n",
    "\n",
    "# 13.4 <u>break & continue</u> in Python  "
   ]
  },
  {
   "cell_type": "markdown",
   "metadata": {},
   "source": [
    "The break and continue statements can alter the flow of a normal loop.\n",
    "\n",
    "Loops iterate over a block of code until test expression is false, but sometimes we may need to terminate the current iteration or even the whole loop without cheking test expression.\n",
    "\n",
    "The break and continue statements are used in these cases.\n",
    "\n",
    "#### Python break Statement\n",
    "\n",
    "Syntax:\n",
    "    \n",
    "    break\n",
    "    \n",
    "#### Python continue Statement\n",
    "    \n",
    "syntax:\n",
    "    \n",
    "    continue\n",
    "    \n"
   ]
  },
  {
   "cell_type": "markdown",
   "metadata": {},
   "source": [
    "#### Examples of break and continue"
   ]
  },
  {
   "cell_type": "code",
   "execution_count": null,
   "metadata": {},
   "outputs": [],
   "source": [
    "# Use of break\n",
    "names = ['Rahul', 'Rohit', 'Virat']\n",
    "\n",
    "\n",
    "for name in names:               # Let us iterate over the names list\n",
    "    \n",
    "    if name == 'Virat':\n",
    "        break\n",
    "        \n",
    "        \n",
    "    print(name)          # it will not print name\n",
    "    \n",
    "    \n",
    "else:\n",
    "    print('For is completed and we are in else part')  # else will not be executed\n",
    "    \n",
    "    \n",
    "    \n",
    "print(\"Totally outside the for & else loop\")"
   ]
  },
  {
   "cell_type": "code",
   "execution_count": null,
   "metadata": {},
   "outputs": [],
   "source": [
    "\n",
    "for letter in 'i love programming':\n",
    " \n",
    "    # break the loop as soon it sees 'e'\n",
    "    # or 's'\n",
    "    if letter == 'e' or letter == 'm':\n",
    "        break\n",
    " \n",
    "print('Current Letter is:', letter)"
   ]
  },
  {
   "cell_type": "code",
   "execution_count": 3,
   "metadata": {
    "scrolled": true
   },
   "outputs": [
    {
     "name": "stdout",
     "output_type": "stream",
     "text": [
      "Rahul\n",
      "Virat\n",
      "Pandya\n",
      "DK\n",
      "SKY\n",
      "For is completed and we are in else part\n",
      "Totally outside the for & else loop\n"
     ]
    }
   ],
   "source": [
    "# Use of continue\n",
    "\n",
    "\n",
    "names = ['Rahul', 'Virat', 'Rohit','Pandya','DK','SKY']\n",
    "\n",
    "for name in names:               # Let us iterate over the names list\n",
    "    if name == 'Rohit':          \n",
    "        continue\n",
    "        break\n",
    "    print(name)                  # If continue condition is satisfied we skip this line and carry on with the next iteration\n",
    "\n",
    "    \n",
    "else:\n",
    "    print('For is completed and we are in else part')\n",
    "\n",
    "    \n",
    "print(\"Totally outside the for & else loop\")"
   ]
  },
  {
   "cell_type": "code",
   "execution_count": 7,
   "metadata": {},
   "outputs": [
    {
     "name": "stdout",
     "output_type": "stream",
     "text": [
      "Current Letter : E\n",
      "Current Letter : a\n"
     ]
    }
   ],
   "source": [
    "for letter in 'projets':\n",
    "    if letter == 'r' or letter == 's':\n",
    "        break\n",
    "        #continue\n",
    "    print('Current Letter :', letter)"
   ]
  }
 ],
 "metadata": {
  "kernelspec": {
   "display_name": "Python 3",
   "language": "python",
   "name": "python3"
  },
  "language_info": {
   "codemirror_mode": {
    "name": "ipython",
    "version": 3
   },
   "file_extension": ".py",
   "mimetype": "text/x-python",
   "name": "python",
   "nbconvert_exporter": "python",
   "pygments_lexer": "ipython3",
   "version": "3.7.3"
  }
 },
 "nbformat": 4,
 "nbformat_minor": 4
}
